{
 "cells": [
  {
   "cell_type": "code",
   "execution_count": 456,
   "id": "680df1ea-8af8-49d7-a200-9782796ce233",
   "metadata": {},
   "outputs": [],
   "source": [
    "import pandas as pd\n",
    "from sklearn.model_selection import train_test_split\n",
    "from sklearn.linear_model import LogisticRegression\n",
    "from sklearn.metrics import classification_report, accuracy_score\n",
    "from sklearn.metrics import roc_auc_score\n",
    "import numpy as np\n",
    "from sklearn.metrics import ConfusionMatrixDisplay\n",
    "from sklearn.preprocessing import LabelEncoder\n",
    "\n",
    "data = pd.read_csv('monitoring_2024_dt.csv')"
   ]
  },
  {
   "cell_type": "markdown",
   "id": "f0e3af21-d14c-4496-921e-ab7b8fcd69ad",
   "metadata": {},
   "source": [
    "### Příprava dat pro model s využitím perf2_2_12"
   ]
  },
  {
   "cell_type": "code",
   "execution_count": 457,
   "id": "27cf21e6-4c3a-44e9-9150-1dec4cc90d88",
   "metadata": {},
   "outputs": [
    {
     "data": {
      "text/plain": [
       "perf2_2_12\n",
       "G    16326\n",
       "B       89\n",
       "Name: count, dtype: int64"
      ]
     },
     "execution_count": 457,
     "metadata": {},
     "output_type": "execute_result"
    }
   ],
   "source": [
    "accepted_data = data.query('perf2_2_12 != \"R\" and perf2_2_12 != \"O\" and perf2_2_12 != \"I\"')\n",
    "rejected_data = data[data['perf2_2_12'] == \"R\"]\n",
    "accepted_data['perf2_2_12'].value_counts()"
   ]
  },
  {
   "cell_type": "markdown",
   "id": "3bba5607-9c90-44c0-8c8b-5964239a11af",
   "metadata": {},
   "source": [
    "### 1) Model na accepted datech"
   ]
  },
  {
   "cell_type": "markdown",
   "id": "3a91cc7d-211d-46c4-9256-feb15a9760b3",
   "metadata": {},
   "source": [
    "#### Výběr proměnných"
   ]
  },
  {
   "cell_type": "code",
   "execution_count": 458,
   "id": "32bc239c-2614-4e92-90ec-f5c5599e2b3c",
   "metadata": {},
   "outputs": [],
   "source": [
    "variables = [\n",
    "    'CAR_TYPE', 'TERM', 'AGE', 'CB_SCORE', \n",
    "    'DISPOSABLE_INCOME_CPI', 'LOAN_TO_VALUE', \n",
    "    'MARITAL_STATUS', 'TIME_AT_EMPLOYMENT','expert_score_cpi','perf2_2_12'\n",
    "]\n",
    "X = accepted_data[variables]\n",
    "y = accepted_data['perf2_2_12']"
   ]
  },
  {
   "cell_type": "code",
   "execution_count": 459,
   "id": "a7d0ac54-feb7-4101-9637-96fa3b867be0",
   "metadata": {},
   "outputs": [
    {
     "data": {
      "text/plain": [
       "array(['B', 'G'], dtype=object)"
      ]
     },
     "execution_count": 459,
     "metadata": {},
     "output_type": "execute_result"
    }
   ],
   "source": [
    "#Transformace y \n",
    "# Vytvoření instance OneHotEncoder\n",
    "encoder = LabelEncoder()\n",
    "# Přizpůsobení a transformace y pomocí OneHotEncoder\n",
    "y = encoder.fit_transform(y)\n",
    "encoder.classes_ \n",
    "#0 - B\n",
    "#1 - G"
   ]
  },
  {
   "cell_type": "markdown",
   "id": "bcf6296f-0110-46e2-8a5b-75b2f3ff8ba3",
   "metadata": {},
   "source": [
    "#### Rozdělení dat"
   ]
  },
  {
   "cell_type": "code",
   "execution_count": 460,
   "id": "60f86944-dd54-4678-b6ce-dc1f9edf5a63",
   "metadata": {},
   "outputs": [],
   "source": [
    "X_train_accepted, X_test_accepted, y_train, y_test = train_test_split(X, y, test_size=0.3, random_state=42, stratify=y)"
   ]
  },
  {
   "cell_type": "markdown",
   "id": "bdfc7188-1cf3-4d30-8ce3-451016be73ea",
   "metadata": {},
   "source": [
    "#### Uložení rozdělených dat bokem"
   ]
  },
  {
   "cell_type": "code",
   "execution_count": 461,
   "id": "2c8d3fa1-ba36-40b8-bd13-562a11c61c50",
   "metadata": {},
   "outputs": [],
   "source": [
    "X_test = X_test_accepted.copy()\n",
    "X_train = X_train_accepted.copy()\n",
    "X_test = X_test.drop(columns=['expert_score_cpi','perf2_2_12'])\n",
    "X_train = X_train.drop(columns=['expert_score_cpi','perf2_2_12'])"
   ]
  },
  {
   "cell_type": "markdown",
   "id": "c6cfa17c-266e-4270-9c73-576db4ae216e",
   "metadata": {},
   "source": [
    "#### Vytvoření dummy proměnných"
   ]
  },
  {
   "cell_type": "code",
   "execution_count": 462,
   "id": "c2257b22-3789-4f22-8996-9ace2e4ebac1",
   "metadata": {},
   "outputs": [],
   "source": [
    "X_train = pd.get_dummies(X_train)\n",
    "X_test = pd.get_dummies(X_test)"
   ]
  },
  {
   "cell_type": "markdown",
   "id": "fd716c22-df58-4412-961e-26686f8041e8",
   "metadata": {},
   "source": [
    "#### Uložení dummy proměnných bokem"
   ]
  },
  {
   "cell_type": "code",
   "execution_count": 463,
   "id": "3a2d31fe-fa74-4df9-8176-9b51878a74dd",
   "metadata": {},
   "outputs": [],
   "source": [
    "X_test_accepted_dummy = X_test.copy()\n",
    "X_train_accepted_dummy = X_train.copy()"
   ]
  },
  {
   "cell_type": "markdown",
   "id": "c32b83de-a89e-4908-86de-2485b8b021de",
   "metadata": {},
   "source": [
    "#### Výpočet modelu model['accepted'] "
   ]
  },
  {
   "cell_type": "code",
   "execution_count": 464,
   "id": "f6517cc4-ed6f-4972-b963-f5895dd3148f",
   "metadata": {},
   "outputs": [
    {
     "data": {
      "text/html": [
       "<style>#sk-container-id-11 {\n",
       "  /* Definition of color scheme common for light and dark mode */\n",
       "  --sklearn-color-text: black;\n",
       "  --sklearn-color-line: gray;\n",
       "  /* Definition of color scheme for unfitted estimators */\n",
       "  --sklearn-color-unfitted-level-0: #fff5e6;\n",
       "  --sklearn-color-unfitted-level-1: #f6e4d2;\n",
       "  --sklearn-color-unfitted-level-2: #ffe0b3;\n",
       "  --sklearn-color-unfitted-level-3: chocolate;\n",
       "  /* Definition of color scheme for fitted estimators */\n",
       "  --sklearn-color-fitted-level-0: #f0f8ff;\n",
       "  --sklearn-color-fitted-level-1: #d4ebff;\n",
       "  --sklearn-color-fitted-level-2: #b3dbfd;\n",
       "  --sklearn-color-fitted-level-3: cornflowerblue;\n",
       "\n",
       "  /* Specific color for light theme */\n",
       "  --sklearn-color-text-on-default-background: var(--sg-text-color, var(--theme-code-foreground, var(--jp-content-font-color1, black)));\n",
       "  --sklearn-color-background: var(--sg-background-color, var(--theme-background, var(--jp-layout-color0, white)));\n",
       "  --sklearn-color-border-box: var(--sg-text-color, var(--theme-code-foreground, var(--jp-content-font-color1, black)));\n",
       "  --sklearn-color-icon: #696969;\n",
       "\n",
       "  @media (prefers-color-scheme: dark) {\n",
       "    /* Redefinition of color scheme for dark theme */\n",
       "    --sklearn-color-text-on-default-background: var(--sg-text-color, var(--theme-code-foreground, var(--jp-content-font-color1, white)));\n",
       "    --sklearn-color-background: var(--sg-background-color, var(--theme-background, var(--jp-layout-color0, #111)));\n",
       "    --sklearn-color-border-box: var(--sg-text-color, var(--theme-code-foreground, var(--jp-content-font-color1, white)));\n",
       "    --sklearn-color-icon: #878787;\n",
       "  }\n",
       "}\n",
       "\n",
       "#sk-container-id-11 {\n",
       "  color: var(--sklearn-color-text);\n",
       "}\n",
       "\n",
       "#sk-container-id-11 pre {\n",
       "  padding: 0;\n",
       "}\n",
       "\n",
       "#sk-container-id-11 input.sk-hidden--visually {\n",
       "  border: 0;\n",
       "  clip: rect(1px 1px 1px 1px);\n",
       "  clip: rect(1px, 1px, 1px, 1px);\n",
       "  height: 1px;\n",
       "  margin: -1px;\n",
       "  overflow: hidden;\n",
       "  padding: 0;\n",
       "  position: absolute;\n",
       "  width: 1px;\n",
       "}\n",
       "\n",
       "#sk-container-id-11 div.sk-dashed-wrapped {\n",
       "  border: 1px dashed var(--sklearn-color-line);\n",
       "  margin: 0 0.4em 0.5em 0.4em;\n",
       "  box-sizing: border-box;\n",
       "  padding-bottom: 0.4em;\n",
       "  background-color: var(--sklearn-color-background);\n",
       "}\n",
       "\n",
       "#sk-container-id-11 div.sk-container {\n",
       "  /* jupyter's `normalize.less` sets `[hidden] { display: none; }`\n",
       "     but bootstrap.min.css set `[hidden] { display: none !important; }`\n",
       "     so we also need the `!important` here to be able to override the\n",
       "     default hidden behavior on the sphinx rendered scikit-learn.org.\n",
       "     See: https://github.com/scikit-learn/scikit-learn/issues/21755 */\n",
       "  display: inline-block !important;\n",
       "  position: relative;\n",
       "}\n",
       "\n",
       "#sk-container-id-11 div.sk-text-repr-fallback {\n",
       "  display: none;\n",
       "}\n",
       "\n",
       "div.sk-parallel-item,\n",
       "div.sk-serial,\n",
       "div.sk-item {\n",
       "  /* draw centered vertical line to link estimators */\n",
       "  background-image: linear-gradient(var(--sklearn-color-text-on-default-background), var(--sklearn-color-text-on-default-background));\n",
       "  background-size: 2px 100%;\n",
       "  background-repeat: no-repeat;\n",
       "  background-position: center center;\n",
       "}\n",
       "\n",
       "/* Parallel-specific style estimator block */\n",
       "\n",
       "#sk-container-id-11 div.sk-parallel-item::after {\n",
       "  content: \"\";\n",
       "  width: 100%;\n",
       "  border-bottom: 2px solid var(--sklearn-color-text-on-default-background);\n",
       "  flex-grow: 1;\n",
       "}\n",
       "\n",
       "#sk-container-id-11 div.sk-parallel {\n",
       "  display: flex;\n",
       "  align-items: stretch;\n",
       "  justify-content: center;\n",
       "  background-color: var(--sklearn-color-background);\n",
       "  position: relative;\n",
       "}\n",
       "\n",
       "#sk-container-id-11 div.sk-parallel-item {\n",
       "  display: flex;\n",
       "  flex-direction: column;\n",
       "}\n",
       "\n",
       "#sk-container-id-11 div.sk-parallel-item:first-child::after {\n",
       "  align-self: flex-end;\n",
       "  width: 50%;\n",
       "}\n",
       "\n",
       "#sk-container-id-11 div.sk-parallel-item:last-child::after {\n",
       "  align-self: flex-start;\n",
       "  width: 50%;\n",
       "}\n",
       "\n",
       "#sk-container-id-11 div.sk-parallel-item:only-child::after {\n",
       "  width: 0;\n",
       "}\n",
       "\n",
       "/* Serial-specific style estimator block */\n",
       "\n",
       "#sk-container-id-11 div.sk-serial {\n",
       "  display: flex;\n",
       "  flex-direction: column;\n",
       "  align-items: center;\n",
       "  background-color: var(--sklearn-color-background);\n",
       "  padding-right: 1em;\n",
       "  padding-left: 1em;\n",
       "}\n",
       "\n",
       "\n",
       "/* Toggleable style: style used for estimator/Pipeline/ColumnTransformer box that is\n",
       "clickable and can be expanded/collapsed.\n",
       "- Pipeline and ColumnTransformer use this feature and define the default style\n",
       "- Estimators will overwrite some part of the style using the `sk-estimator` class\n",
       "*/\n",
       "\n",
       "/* Pipeline and ColumnTransformer style (default) */\n",
       "\n",
       "#sk-container-id-11 div.sk-toggleable {\n",
       "  /* Default theme specific background. It is overwritten whether we have a\n",
       "  specific estimator or a Pipeline/ColumnTransformer */\n",
       "  background-color: var(--sklearn-color-background);\n",
       "}\n",
       "\n",
       "/* Toggleable label */\n",
       "#sk-container-id-11 label.sk-toggleable__label {\n",
       "  cursor: pointer;\n",
       "  display: block;\n",
       "  width: 100%;\n",
       "  margin-bottom: 0;\n",
       "  padding: 0.5em;\n",
       "  box-sizing: border-box;\n",
       "  text-align: center;\n",
       "}\n",
       "\n",
       "#sk-container-id-11 label.sk-toggleable__label-arrow:before {\n",
       "  /* Arrow on the left of the label */\n",
       "  content: \"▸\";\n",
       "  float: left;\n",
       "  margin-right: 0.25em;\n",
       "  color: var(--sklearn-color-icon);\n",
       "}\n",
       "\n",
       "#sk-container-id-11 label.sk-toggleable__label-arrow:hover:before {\n",
       "  color: var(--sklearn-color-text);\n",
       "}\n",
       "\n",
       "/* Toggleable content - dropdown */\n",
       "\n",
       "#sk-container-id-11 div.sk-toggleable__content {\n",
       "  max-height: 0;\n",
       "  max-width: 0;\n",
       "  overflow: hidden;\n",
       "  text-align: left;\n",
       "  /* unfitted */\n",
       "  background-color: var(--sklearn-color-unfitted-level-0);\n",
       "}\n",
       "\n",
       "#sk-container-id-11 div.sk-toggleable__content.fitted {\n",
       "  /* fitted */\n",
       "  background-color: var(--sklearn-color-fitted-level-0);\n",
       "}\n",
       "\n",
       "#sk-container-id-11 div.sk-toggleable__content pre {\n",
       "  margin: 0.2em;\n",
       "  border-radius: 0.25em;\n",
       "  color: var(--sklearn-color-text);\n",
       "  /* unfitted */\n",
       "  background-color: var(--sklearn-color-unfitted-level-0);\n",
       "}\n",
       "\n",
       "#sk-container-id-11 div.sk-toggleable__content.fitted pre {\n",
       "  /* unfitted */\n",
       "  background-color: var(--sklearn-color-fitted-level-0);\n",
       "}\n",
       "\n",
       "#sk-container-id-11 input.sk-toggleable__control:checked~div.sk-toggleable__content {\n",
       "  /* Expand drop-down */\n",
       "  max-height: 200px;\n",
       "  max-width: 100%;\n",
       "  overflow: auto;\n",
       "}\n",
       "\n",
       "#sk-container-id-11 input.sk-toggleable__control:checked~label.sk-toggleable__label-arrow:before {\n",
       "  content: \"▾\";\n",
       "}\n",
       "\n",
       "/* Pipeline/ColumnTransformer-specific style */\n",
       "\n",
       "#sk-container-id-11 div.sk-label input.sk-toggleable__control:checked~label.sk-toggleable__label {\n",
       "  color: var(--sklearn-color-text);\n",
       "  background-color: var(--sklearn-color-unfitted-level-2);\n",
       "}\n",
       "\n",
       "#sk-container-id-11 div.sk-label.fitted input.sk-toggleable__control:checked~label.sk-toggleable__label {\n",
       "  background-color: var(--sklearn-color-fitted-level-2);\n",
       "}\n",
       "\n",
       "/* Estimator-specific style */\n",
       "\n",
       "/* Colorize estimator box */\n",
       "#sk-container-id-11 div.sk-estimator input.sk-toggleable__control:checked~label.sk-toggleable__label {\n",
       "  /* unfitted */\n",
       "  background-color: var(--sklearn-color-unfitted-level-2);\n",
       "}\n",
       "\n",
       "#sk-container-id-11 div.sk-estimator.fitted input.sk-toggleable__control:checked~label.sk-toggleable__label {\n",
       "  /* fitted */\n",
       "  background-color: var(--sklearn-color-fitted-level-2);\n",
       "}\n",
       "\n",
       "#sk-container-id-11 div.sk-label label.sk-toggleable__label,\n",
       "#sk-container-id-11 div.sk-label label {\n",
       "  /* The background is the default theme color */\n",
       "  color: var(--sklearn-color-text-on-default-background);\n",
       "}\n",
       "\n",
       "/* On hover, darken the color of the background */\n",
       "#sk-container-id-11 div.sk-label:hover label.sk-toggleable__label {\n",
       "  color: var(--sklearn-color-text);\n",
       "  background-color: var(--sklearn-color-unfitted-level-2);\n",
       "}\n",
       "\n",
       "/* Label box, darken color on hover, fitted */\n",
       "#sk-container-id-11 div.sk-label.fitted:hover label.sk-toggleable__label.fitted {\n",
       "  color: var(--sklearn-color-text);\n",
       "  background-color: var(--sklearn-color-fitted-level-2);\n",
       "}\n",
       "\n",
       "/* Estimator label */\n",
       "\n",
       "#sk-container-id-11 div.sk-label label {\n",
       "  font-family: monospace;\n",
       "  font-weight: bold;\n",
       "  display: inline-block;\n",
       "  line-height: 1.2em;\n",
       "}\n",
       "\n",
       "#sk-container-id-11 div.sk-label-container {\n",
       "  text-align: center;\n",
       "}\n",
       "\n",
       "/* Estimator-specific */\n",
       "#sk-container-id-11 div.sk-estimator {\n",
       "  font-family: monospace;\n",
       "  border: 1px dotted var(--sklearn-color-border-box);\n",
       "  border-radius: 0.25em;\n",
       "  box-sizing: border-box;\n",
       "  margin-bottom: 0.5em;\n",
       "  /* unfitted */\n",
       "  background-color: var(--sklearn-color-unfitted-level-0);\n",
       "}\n",
       "\n",
       "#sk-container-id-11 div.sk-estimator.fitted {\n",
       "  /* fitted */\n",
       "  background-color: var(--sklearn-color-fitted-level-0);\n",
       "}\n",
       "\n",
       "/* on hover */\n",
       "#sk-container-id-11 div.sk-estimator:hover {\n",
       "  /* unfitted */\n",
       "  background-color: var(--sklearn-color-unfitted-level-2);\n",
       "}\n",
       "\n",
       "#sk-container-id-11 div.sk-estimator.fitted:hover {\n",
       "  /* fitted */\n",
       "  background-color: var(--sklearn-color-fitted-level-2);\n",
       "}\n",
       "\n",
       "/* Specification for estimator info (e.g. \"i\" and \"?\") */\n",
       "\n",
       "/* Common style for \"i\" and \"?\" */\n",
       "\n",
       ".sk-estimator-doc-link,\n",
       "a:link.sk-estimator-doc-link,\n",
       "a:visited.sk-estimator-doc-link {\n",
       "  float: right;\n",
       "  font-size: smaller;\n",
       "  line-height: 1em;\n",
       "  font-family: monospace;\n",
       "  background-color: var(--sklearn-color-background);\n",
       "  border-radius: 1em;\n",
       "  height: 1em;\n",
       "  width: 1em;\n",
       "  text-decoration: none !important;\n",
       "  margin-left: 1ex;\n",
       "  /* unfitted */\n",
       "  border: var(--sklearn-color-unfitted-level-1) 1pt solid;\n",
       "  color: var(--sklearn-color-unfitted-level-1);\n",
       "}\n",
       "\n",
       ".sk-estimator-doc-link.fitted,\n",
       "a:link.sk-estimator-doc-link.fitted,\n",
       "a:visited.sk-estimator-doc-link.fitted {\n",
       "  /* fitted */\n",
       "  border: var(--sklearn-color-fitted-level-1) 1pt solid;\n",
       "  color: var(--sklearn-color-fitted-level-1);\n",
       "}\n",
       "\n",
       "/* On hover */\n",
       "div.sk-estimator:hover .sk-estimator-doc-link:hover,\n",
       ".sk-estimator-doc-link:hover,\n",
       "div.sk-label-container:hover .sk-estimator-doc-link:hover,\n",
       ".sk-estimator-doc-link:hover {\n",
       "  /* unfitted */\n",
       "  background-color: var(--sklearn-color-unfitted-level-3);\n",
       "  color: var(--sklearn-color-background);\n",
       "  text-decoration: none;\n",
       "}\n",
       "\n",
       "div.sk-estimator.fitted:hover .sk-estimator-doc-link.fitted:hover,\n",
       ".sk-estimator-doc-link.fitted:hover,\n",
       "div.sk-label-container:hover .sk-estimator-doc-link.fitted:hover,\n",
       ".sk-estimator-doc-link.fitted:hover {\n",
       "  /* fitted */\n",
       "  background-color: var(--sklearn-color-fitted-level-3);\n",
       "  color: var(--sklearn-color-background);\n",
       "  text-decoration: none;\n",
       "}\n",
       "\n",
       "/* Span, style for the box shown on hovering the info icon */\n",
       ".sk-estimator-doc-link span {\n",
       "  display: none;\n",
       "  z-index: 9999;\n",
       "  position: relative;\n",
       "  font-weight: normal;\n",
       "  right: .2ex;\n",
       "  padding: .5ex;\n",
       "  margin: .5ex;\n",
       "  width: min-content;\n",
       "  min-width: 20ex;\n",
       "  max-width: 50ex;\n",
       "  color: var(--sklearn-color-text);\n",
       "  box-shadow: 2pt 2pt 4pt #999;\n",
       "  /* unfitted */\n",
       "  background: var(--sklearn-color-unfitted-level-0);\n",
       "  border: .5pt solid var(--sklearn-color-unfitted-level-3);\n",
       "}\n",
       "\n",
       ".sk-estimator-doc-link.fitted span {\n",
       "  /* fitted */\n",
       "  background: var(--sklearn-color-fitted-level-0);\n",
       "  border: var(--sklearn-color-fitted-level-3);\n",
       "}\n",
       "\n",
       ".sk-estimator-doc-link:hover span {\n",
       "  display: block;\n",
       "}\n",
       "\n",
       "/* \"?\"-specific style due to the `<a>` HTML tag */\n",
       "\n",
       "#sk-container-id-11 a.estimator_doc_link {\n",
       "  float: right;\n",
       "  font-size: 1rem;\n",
       "  line-height: 1em;\n",
       "  font-family: monospace;\n",
       "  background-color: var(--sklearn-color-background);\n",
       "  border-radius: 1rem;\n",
       "  height: 1rem;\n",
       "  width: 1rem;\n",
       "  text-decoration: none;\n",
       "  /* unfitted */\n",
       "  color: var(--sklearn-color-unfitted-level-1);\n",
       "  border: var(--sklearn-color-unfitted-level-1) 1pt solid;\n",
       "}\n",
       "\n",
       "#sk-container-id-11 a.estimator_doc_link.fitted {\n",
       "  /* fitted */\n",
       "  border: var(--sklearn-color-fitted-level-1) 1pt solid;\n",
       "  color: var(--sklearn-color-fitted-level-1);\n",
       "}\n",
       "\n",
       "/* On hover */\n",
       "#sk-container-id-11 a.estimator_doc_link:hover {\n",
       "  /* unfitted */\n",
       "  background-color: var(--sklearn-color-unfitted-level-3);\n",
       "  color: var(--sklearn-color-background);\n",
       "  text-decoration: none;\n",
       "}\n",
       "\n",
       "#sk-container-id-11 a.estimator_doc_link.fitted:hover {\n",
       "  /* fitted */\n",
       "  background-color: var(--sklearn-color-fitted-level-3);\n",
       "}\n",
       "</style><div id=\"sk-container-id-11\" class=\"sk-top-container\"><div class=\"sk-text-repr-fallback\"><pre>LogisticRegression(max_iter=1000)</pre><b>In a Jupyter environment, please rerun this cell to show the HTML representation or trust the notebook. <br />On GitHub, the HTML representation is unable to render, please try loading this page with nbviewer.org.</b></div><div class=\"sk-container\" hidden><div class=\"sk-item\"><div class=\"sk-estimator fitted sk-toggleable\"><input class=\"sk-toggleable__control sk-hidden--visually\" id=\"sk-estimator-id-11\" type=\"checkbox\" checked><label for=\"sk-estimator-id-11\" class=\"sk-toggleable__label fitted sk-toggleable__label-arrow fitted\">&nbsp;&nbsp;LogisticRegression<a class=\"sk-estimator-doc-link fitted\" rel=\"noreferrer\" target=\"_blank\" href=\"https://scikit-learn.org/1.4/modules/generated/sklearn.linear_model.LogisticRegression.html\">?<span>Documentation for LogisticRegression</span></a><span class=\"sk-estimator-doc-link fitted\">i<span>Fitted</span></span></label><div class=\"sk-toggleable__content fitted\"><pre>LogisticRegression(max_iter=1000)</pre></div> </div></div></div></div>"
      ],
      "text/plain": [
       "LogisticRegression(max_iter=1000)"
      ]
     },
     "execution_count": 464,
     "metadata": {},
     "output_type": "execute_result"
    }
   ],
   "source": [
    "model = {}\n",
    "model['accepted'] = LogisticRegression(solver='lbfgs', max_iter=1000)\n",
    "model['accepted'].fit(X_train, y_train)"
   ]
  },
  {
   "cell_type": "markdown",
   "id": "a8e1b608-ad79-4f7a-9689-e894caa098e1",
   "metadata": {},
   "source": [
    "#### Predikce testovací data"
   ]
  },
  {
   "cell_type": "code",
   "execution_count": 466,
   "id": "c56696fe-047e-4dbd-819c-a5c810ee1df6",
   "metadata": {},
   "outputs": [],
   "source": [
    "y_pred_test = model['accepted'].predict(X_test)\n",
    "y_prob_test = model['accepted'].predict_proba(X_test)\n",
    "y_prob_class0_test = y_prob_test[:,0]\n",
    "y_prob_class1_test = y_prob_test[:,1]\n",
    "y_test = y_test.astype(float)"
   ]
  },
  {
   "cell_type": "markdown",
   "id": "1cb187f6-ff99-4135-b0c2-bf093d8a2f22",
   "metadata": {},
   "source": [
    "#### Predikce trénovací data"
   ]
  },
  {
   "cell_type": "code",
   "execution_count": 345,
   "id": "59ab4bb9-ce44-4dcb-bcc2-c1871f5fa354",
   "metadata": {},
   "outputs": [],
   "source": [
    "y_pred_train = model['accepted'].predict(X_train)\n",
    "y_prob_train = model['accepted'].predict_proba(X_train)\n",
    "y_prob_class0_train = y_prob_train[:,0]\n",
    "y_prob_class1_train = y_prob_train[:,1]\n",
    "y_train = y_train.astype(float)"
   ]
  },
  {
   "cell_type": "markdown",
   "id": "4f5de7a4-17ec-4c98-bd4e-406423d38201",
   "metadata": {},
   "source": [
    "### 2) Performance metriky pro model na accepted datech"
   ]
  },
  {
   "cell_type": "markdown",
   "id": "1633ba6c-4b6b-4205-ad7e-d873efe55ed6",
   "metadata": {},
   "source": [
    "##### test data"
   ]
  },
  {
   "cell_type": "code",
   "execution_count": 467,
   "id": "d9aa300c-ca1a-4157-a7af-fb9f6d377c9d",
   "metadata": {},
   "outputs": [
    {
     "data": {
      "text/plain": [
       "0.6536454788802688"
      ]
     },
     "execution_count": 467,
     "metadata": {},
     "output_type": "execute_result"
    }
   ],
   "source": [
    "from sklearn.metrics import roc_auc_score\n",
    "auc_score = roc_auc_score(y_test, y_prob_class1_test)\n",
    "gini_test = auc_score*2-1\n",
    "gini_test"
   ]
  },
  {
   "cell_type": "markdown",
   "id": "69d25652-d4b2-43db-bf48-8934e0f05c00",
   "metadata": {},
   "source": [
    "##### train data"
   ]
  },
  {
   "cell_type": "code",
   "execution_count": 347,
   "id": "dc964e14-1322-47f2-acaa-593b8408292f",
   "metadata": {},
   "outputs": [
    {
     "data": {
      "text/plain": [
       "0.685811306694367"
      ]
     },
     "execution_count": 347,
     "metadata": {},
     "output_type": "execute_result"
    }
   ],
   "source": [
    "auc_score = roc_auc_score(y_train, y_prob_class1_train)\n",
    "gini_train = auc_score*2-1\n",
    "gini_train"
   ]
  },
  {
   "cell_type": "markdown",
   "id": "288c93bc-90c4-40be-a254-a5f9b3d84ab8",
   "metadata": {},
   "source": [
    "### 3) Distribuce pro model na accepted datech"
   ]
  },
  {
   "cell_type": "code",
   "execution_count": null,
   "id": "b63f6e5e-427b-48b3-a3d1-5bb936d8e0b5",
   "metadata": {},
   "outputs": [],
   "source": [
    "# Rozdělení y_prob_class1 na decily\n",
    "# Aplikovat na dataset - vytvořit sloupec s rozdělením do skupin na zákl. decilů\n",
    "# Pro každý decil spočítat BR\n",
    "# Vygenerovat tabulku"
   ]
  },
  {
   "cell_type": "markdown",
   "id": "33b91853-7725-4e36-a323-aa6207815010",
   "metadata": {},
   "source": [
    "#### Spojení dat"
   ]
  },
  {
   "cell_type": "code",
   "execution_count": 362,
   "id": "da94c155-d6b7-4d57-a1a4-c10ff331b1e8",
   "metadata": {},
   "outputs": [],
   "source": [
    "# test data\n",
    "X_test_accepted_for_concat = X_test_accepted.copy()\n",
    "X_test_accepted_for_concat['probab_good'] = y_prob_class1_test\n",
    "# train data\n",
    "X_train_accepted_for_concat = X_train_accepted.copy()\n",
    "X_train_accepted_for_concat['probab_good'] = y_prob_class1_train\n",
    "# spojení dat\n",
    "train_test_accepted_data = pd.concat([X_test_accepted_for_concat, X_train_accepted_for_concat], axis= 0).reset_index()"
   ]
  },
  {
   "cell_type": "markdown",
   "id": "0dbfae02-06fc-4096-9b98-51dd19e19df8",
   "metadata": {},
   "source": [
    "#### Rozdělení na decily"
   ]
  },
  {
   "cell_type": "code",
   "execution_count": 363,
   "id": "95ef802d-e796-4bd4-bf1f-ab6caa43d55e",
   "metadata": {},
   "outputs": [
    {
     "data": {
      "text/plain": [
       "array([0.82544711, 0.98653169, 0.9928426 , 0.99555777, 0.99700747,\n",
       "       0.99784115, 0.99852699, 0.9989799 , 0.9992196 , 0.99957866])"
      ]
     },
     "execution_count": 363,
     "metadata": {},
     "output_type": "execute_result"
    }
   ],
   "source": [
    "deciles_accepted = np.percentile(train_test_accepted_data['probab_good'], np.arange(0, 100, 10))\n",
    "y_prob_class_deciles_accepted = pd.qcut(train_test_accepted_data['probab_good'], 10, labels=False)"
   ]
  },
  {
   "cell_type": "code",
   "execution_count": 364,
   "id": "f3f621c5-9a9c-45bf-a9d7-809d92d561e0",
   "metadata": {},
   "outputs": [],
   "source": [
    "train_test_accepted_data['decile'] = y_prob_class_deciles_accepted\n",
    "train_test_accepted_data['probab_bad'] = 1 - train_test_accepted_data['probab_good']"
   ]
  },
  {
   "cell_type": "markdown",
   "id": "eea7eab9-55fc-453e-a113-a641c67521c7",
   "metadata": {},
   "source": [
    "#### Decily zvlášť pro train a test data"
   ]
  },
  {
   "cell_type": "code",
   "execution_count": 370,
   "id": "da197cc5-8667-4832-9f29-2d4f742a9950",
   "metadata": {},
   "outputs": [],
   "source": [
    "#test data\n",
    "deciles_accepted_test = np.percentile(X_test_accepted_for_concat['probab_good'], np.arange(0, 100, 10))\n",
    "y_prob_class_deciles_test = pd.qcut(X_test_accepted_for_concat['probab_good'], 10, labels=False)\n",
    "X_test_accepted_for_concat['decile'] = y_prob_class_deciles_test\n",
    "X_test_accepted_for_concat['probab_bad'] = 1 - X_test_accepted_for_concat['probab_good']\n",
    "\n",
    "#train data\n",
    "deciles_accepted_train = np.percentile(X_train_accepted_for_concat['probab_good'], np.arange(0, 100, 10))\n",
    "y_prob_class_deciles_train = pd.qcut(X_train_accepted_for_concat['probab_good'], 10, labels=False)\n",
    "X_train_accepted_for_concat['decile'] = y_prob_class_deciles_train\n",
    "X_train_accepted_for_concat['probab_bad'] = 1 - X_train_accepted_for_concat['probab_good']"
   ]
  },
  {
   "cell_type": "markdown",
   "id": "4e8d5e31-95b9-4142-be07-f354c052ade4",
   "metadata": {},
   "source": [
    "#### Vytvoření distribuční tabulky"
   ]
  },
  {
   "cell_type": "code",
   "execution_count": 367,
   "id": "888e7d8b-bf0d-4c07-9cae-164e0816351a",
   "metadata": {
    "scrolled": true
   },
   "outputs": [
    {
     "name": "stderr",
     "output_type": "stream",
     "text": [
      "C:\\Users\\cza187adebec\\AppData\\Local\\Temp\\ipykernel_14116\\3247893776.py:1: DeprecationWarning: DataFrameGroupBy.apply operated on the grouping columns. This behavior is deprecated, and in a future version of pandas the grouping columns will be excluded from the operation. Either pass `include_groups=False` to exclude the groupings or explicitly select the grouping columns after groupby to silence this warning.\n",
      "  distribution_table = train_test_accepted_data.groupby('decile').apply(lambda x: pd.Series({\n"
     ]
    },
    {
     "data": {
      "text/html": [
       "<div>\n",
       "<style scoped>\n",
       "    .dataframe tbody tr th:only-of-type {\n",
       "        vertical-align: middle;\n",
       "    }\n",
       "\n",
       "    .dataframe tbody tr th {\n",
       "        vertical-align: top;\n",
       "    }\n",
       "\n",
       "    .dataframe thead th {\n",
       "        text-align: right;\n",
       "    }\n",
       "</style>\n",
       "<table border=\"1\" class=\"dataframe\">\n",
       "  <thead>\n",
       "    <tr style=\"text-align: right;\">\n",
       "      <th></th>\n",
       "      <th>decile</th>\n",
       "      <th>count_good</th>\n",
       "      <th>count_bad</th>\n",
       "      <th>avg_prob_good</th>\n",
       "      <th>avg_prob_bad</th>\n",
       "      <th>bad_rate</th>\n",
       "    </tr>\n",
       "  </thead>\n",
       "  <tbody>\n",
       "    <tr>\n",
       "      <th>0</th>\n",
       "      <td>0</td>\n",
       "      <td>1592</td>\n",
       "      <td>50</td>\n",
       "      <td>0.971536</td>\n",
       "      <td>0.028464</td>\n",
       "      <td>0.030451</td>\n",
       "    </tr>\n",
       "    <tr>\n",
       "      <th>1</th>\n",
       "      <td>1</td>\n",
       "      <td>1623</td>\n",
       "      <td>18</td>\n",
       "      <td>0.990257</td>\n",
       "      <td>0.009743</td>\n",
       "      <td>0.010969</td>\n",
       "    </tr>\n",
       "    <tr>\n",
       "      <th>2</th>\n",
       "      <td>2</td>\n",
       "      <td>1635</td>\n",
       "      <td>7</td>\n",
       "      <td>0.994342</td>\n",
       "      <td>0.005658</td>\n",
       "      <td>0.004263</td>\n",
       "    </tr>\n",
       "    <tr>\n",
       "      <th>3</th>\n",
       "      <td>3</td>\n",
       "      <td>1639</td>\n",
       "      <td>2</td>\n",
       "      <td>0.996343</td>\n",
       "      <td>0.003657</td>\n",
       "      <td>0.001219</td>\n",
       "    </tr>\n",
       "    <tr>\n",
       "      <th>4</th>\n",
       "      <td>4</td>\n",
       "      <td>1642</td>\n",
       "      <td>3</td>\n",
       "      <td>0.997450</td>\n",
       "      <td>0.002550</td>\n",
       "      <td>0.001824</td>\n",
       "    </tr>\n",
       "    <tr>\n",
       "      <th>5</th>\n",
       "      <td>5</td>\n",
       "      <td>1636</td>\n",
       "      <td>2</td>\n",
       "      <td>0.998205</td>\n",
       "      <td>0.001795</td>\n",
       "      <td>0.001221</td>\n",
       "    </tr>\n",
       "    <tr>\n",
       "      <th>6</th>\n",
       "      <td>6</td>\n",
       "      <td>1638</td>\n",
       "      <td>3</td>\n",
       "      <td>0.998767</td>\n",
       "      <td>0.001233</td>\n",
       "      <td>0.001828</td>\n",
       "    </tr>\n",
       "    <tr>\n",
       "      <th>7</th>\n",
       "      <td>7</td>\n",
       "      <td>1654</td>\n",
       "      <td>2</td>\n",
       "      <td>0.999088</td>\n",
       "      <td>0.000912</td>\n",
       "      <td>0.001208</td>\n",
       "    </tr>\n",
       "    <tr>\n",
       "      <th>8</th>\n",
       "      <td>8</td>\n",
       "      <td>1638</td>\n",
       "      <td>1</td>\n",
       "      <td>0.999392</td>\n",
       "      <td>0.000608</td>\n",
       "      <td>0.000610</td>\n",
       "    </tr>\n",
       "    <tr>\n",
       "      <th>9</th>\n",
       "      <td>9</td>\n",
       "      <td>1629</td>\n",
       "      <td>1</td>\n",
       "      <td>0.999726</td>\n",
       "      <td>0.000274</td>\n",
       "      <td>0.000613</td>\n",
       "    </tr>\n",
       "  </tbody>\n",
       "</table>\n",
       "</div>"
      ],
      "text/plain": [
       "   decile  count_good  count_bad  avg_prob_good  avg_prob_bad  bad_rate\n",
       "0       0        1592         50       0.971536      0.028464  0.030451\n",
       "1       1        1623         18       0.990257      0.009743  0.010969\n",
       "2       2        1635          7       0.994342      0.005658  0.004263\n",
       "3       3        1639          2       0.996343      0.003657  0.001219\n",
       "4       4        1642          3       0.997450      0.002550  0.001824\n",
       "5       5        1636          2       0.998205      0.001795  0.001221\n",
       "6       6        1638          3       0.998767      0.001233  0.001828\n",
       "7       7        1654          2       0.999088      0.000912  0.001208\n",
       "8       8        1638          1       0.999392      0.000608  0.000610\n",
       "9       9        1629          1       0.999726      0.000274  0.000613"
      ]
     },
     "execution_count": 367,
     "metadata": {},
     "output_type": "execute_result"
    }
   ],
   "source": [
    "distribution_table = train_test_accepted_data.groupby('decile').apply(lambda x: pd.Series({\n",
    "    'count_good': (x['perf2_2_12'] == 'G').sum(), \n",
    "    'count_bad': (x['perf2_2_12'] == 'B').sum(),   \n",
    "    'avg_prob_good': x['probab_good'].mean(),  \n",
    "    'avg_prob_bad': x['probab_bad'].mean(),    \n",
    "    'bad_rate': (x['perf2_2_12'] == 'B').sum() / len(x)  \n",
    "})).reset_index()\n",
    "distribution_table['count_good'] = distribution_table['count_good'].astype(int)\n",
    "distribution_table['count_bad'] = distribution_table['count_bad'].astype(int)\n",
    "pd.options.display.float_format = '{:.6f}'.format\n",
    "distribution_table"
   ]
  },
  {
   "cell_type": "markdown",
   "id": "ce563ed7-6064-46fa-b9fe-8a7a36e7099f",
   "metadata": {
    "scrolled": true
   },
   "source": [
    "#### Distribuční tabulka zvlášť pro test a train data"
   ]
  },
  {
   "cell_type": "code",
   "execution_count": 368,
   "id": "e6534763-cc9b-4296-9478-6c219ec72874",
   "metadata": {
    "scrolled": true
   },
   "outputs": [
    {
     "name": "stderr",
     "output_type": "stream",
     "text": [
      "C:\\Users\\cza187adebec\\AppData\\Local\\Temp\\ipykernel_14116\\2734518751.py:2: DeprecationWarning: DataFrameGroupBy.apply operated on the grouping columns. This behavior is deprecated, and in a future version of pandas the grouping columns will be excluded from the operation. Either pass `include_groups=False` to exclude the groupings or explicitly select the grouping columns after groupby to silence this warning.\n",
      "  distribution_table_test = X_test_accepted_for_concat.groupby('decile').apply(lambda x: pd.Series({\n"
     ]
    },
    {
     "data": {
      "text/html": [
       "<div>\n",
       "<style scoped>\n",
       "    .dataframe tbody tr th:only-of-type {\n",
       "        vertical-align: middle;\n",
       "    }\n",
       "\n",
       "    .dataframe tbody tr th {\n",
       "        vertical-align: top;\n",
       "    }\n",
       "\n",
       "    .dataframe thead th {\n",
       "        text-align: right;\n",
       "    }\n",
       "</style>\n",
       "<table border=\"1\" class=\"dataframe\">\n",
       "  <thead>\n",
       "    <tr style=\"text-align: right;\">\n",
       "      <th></th>\n",
       "      <th>decile</th>\n",
       "      <th>count_good</th>\n",
       "      <th>count_bad</th>\n",
       "      <th>avg_prob_good</th>\n",
       "      <th>avg_prob_bad</th>\n",
       "      <th>bad_rate</th>\n",
       "    </tr>\n",
       "  </thead>\n",
       "  <tbody>\n",
       "    <tr>\n",
       "      <th>0</th>\n",
       "      <td>0</td>\n",
       "      <td>479</td>\n",
       "      <td>14</td>\n",
       "      <td>0.971193</td>\n",
       "      <td>0.028807</td>\n",
       "      <td>0.028398</td>\n",
       "    </tr>\n",
       "    <tr>\n",
       "      <th>1</th>\n",
       "      <td>1</td>\n",
       "      <td>487</td>\n",
       "      <td>6</td>\n",
       "      <td>0.990180</td>\n",
       "      <td>0.009820</td>\n",
       "      <td>0.012170</td>\n",
       "    </tr>\n",
       "    <tr>\n",
       "      <th>2</th>\n",
       "      <td>2</td>\n",
       "      <td>490</td>\n",
       "      <td>2</td>\n",
       "      <td>0.994407</td>\n",
       "      <td>0.005593</td>\n",
       "      <td>0.004065</td>\n",
       "    </tr>\n",
       "    <tr>\n",
       "      <th>3</th>\n",
       "      <td>3</td>\n",
       "      <td>491</td>\n",
       "      <td>1</td>\n",
       "      <td>0.996385</td>\n",
       "      <td>0.003615</td>\n",
       "      <td>0.002033</td>\n",
       "    </tr>\n",
       "    <tr>\n",
       "      <th>4</th>\n",
       "      <td>4</td>\n",
       "      <td>492</td>\n",
       "      <td>1</td>\n",
       "      <td>0.997477</td>\n",
       "      <td>0.002523</td>\n",
       "      <td>0.002028</td>\n",
       "    </tr>\n",
       "    <tr>\n",
       "      <th>5</th>\n",
       "      <td>5</td>\n",
       "      <td>492</td>\n",
       "      <td>0</td>\n",
       "      <td>0.998224</td>\n",
       "      <td>0.001776</td>\n",
       "      <td>0.000000</td>\n",
       "    </tr>\n",
       "    <tr>\n",
       "      <th>6</th>\n",
       "      <td>6</td>\n",
       "      <td>493</td>\n",
       "      <td>2</td>\n",
       "      <td>0.998803</td>\n",
       "      <td>0.001197</td>\n",
       "      <td>0.004040</td>\n",
       "    </tr>\n",
       "    <tr>\n",
       "      <th>7</th>\n",
       "      <td>7</td>\n",
       "      <td>495</td>\n",
       "      <td>1</td>\n",
       "      <td>0.999116</td>\n",
       "      <td>0.000884</td>\n",
       "      <td>0.002016</td>\n",
       "    </tr>\n",
       "    <tr>\n",
       "      <th>8</th>\n",
       "      <td>8</td>\n",
       "      <td>486</td>\n",
       "      <td>0</td>\n",
       "      <td>0.999407</td>\n",
       "      <td>0.000593</td>\n",
       "      <td>0.000000</td>\n",
       "    </tr>\n",
       "    <tr>\n",
       "      <th>9</th>\n",
       "      <td>9</td>\n",
       "      <td>493</td>\n",
       "      <td>0</td>\n",
       "      <td>0.999732</td>\n",
       "      <td>0.000268</td>\n",
       "      <td>0.000000</td>\n",
       "    </tr>\n",
       "  </tbody>\n",
       "</table>\n",
       "</div>"
      ],
      "text/plain": [
       "   decile  count_good  count_bad  avg_prob_good  avg_prob_bad  bad_rate\n",
       "0       0         479         14       0.971193      0.028807  0.028398\n",
       "1       1         487          6       0.990180      0.009820  0.012170\n",
       "2       2         490          2       0.994407      0.005593  0.004065\n",
       "3       3         491          1       0.996385      0.003615  0.002033\n",
       "4       4         492          1       0.997477      0.002523  0.002028\n",
       "5       5         492          0       0.998224      0.001776  0.000000\n",
       "6       6         493          2       0.998803      0.001197  0.004040\n",
       "7       7         495          1       0.999116      0.000884  0.002016\n",
       "8       8         486          0       0.999407      0.000593  0.000000\n",
       "9       9         493          0       0.999732      0.000268  0.000000"
      ]
     },
     "execution_count": 368,
     "metadata": {},
     "output_type": "execute_result"
    }
   ],
   "source": [
    "#test data\n",
    "distribution_table_test = X_test_accepted_for_concat.groupby('decile').apply(lambda x: pd.Series({\n",
    "    'count_good': (x['perf2_2_12'] == 'G').sum(), \n",
    "    'count_bad': (x['perf2_2_12'] == 'B').sum(),   \n",
    "    'avg_prob_good': x['probab_good'].mean(),  \n",
    "    'avg_prob_bad': x['probab_bad'].mean(),    \n",
    "    'bad_rate': (x['perf2_2_12'] == 'B').sum() / len(x)  \n",
    "})).reset_index()\n",
    "distribution_table_test['count_good'] = distribution_table_test['count_good'].astype(int)\n",
    "distribution_table_test['count_bad'] = distribution_table_test['count_bad'].astype(int)\n",
    "distribution_table_test"
   ]
  },
  {
   "cell_type": "code",
   "execution_count": 369,
   "id": "b9cdf693-8545-49b5-8693-8b59c1977421",
   "metadata": {
    "scrolled": true
   },
   "outputs": [
    {
     "name": "stderr",
     "output_type": "stream",
     "text": [
      "C:\\Users\\cza187adebec\\AppData\\Local\\Temp\\ipykernel_14116\\2662145556.py:2: DeprecationWarning: DataFrameGroupBy.apply operated on the grouping columns. This behavior is deprecated, and in a future version of pandas the grouping columns will be excluded from the operation. Either pass `include_groups=False` to exclude the groupings or explicitly select the grouping columns after groupby to silence this warning.\n",
      "  distribution_table_train = X_train_accepted_for_concat.groupby('decile').apply(lambda x: pd.Series({\n"
     ]
    },
    {
     "data": {
      "text/html": [
       "<div>\n",
       "<style scoped>\n",
       "    .dataframe tbody tr th:only-of-type {\n",
       "        vertical-align: middle;\n",
       "    }\n",
       "\n",
       "    .dataframe tbody tr th {\n",
       "        vertical-align: top;\n",
       "    }\n",
       "\n",
       "    .dataframe thead th {\n",
       "        text-align: right;\n",
       "    }\n",
       "</style>\n",
       "<table border=\"1\" class=\"dataframe\">\n",
       "  <thead>\n",
       "    <tr style=\"text-align: right;\">\n",
       "      <th></th>\n",
       "      <th>decile</th>\n",
       "      <th>count_good</th>\n",
       "      <th>count_bad</th>\n",
       "      <th>avg_prob_good</th>\n",
       "      <th>avg_prob_bad</th>\n",
       "      <th>bad_rate</th>\n",
       "    </tr>\n",
       "  </thead>\n",
       "  <tbody>\n",
       "    <tr>\n",
       "      <th>0</th>\n",
       "      <td>0</td>\n",
       "      <td>1113</td>\n",
       "      <td>36</td>\n",
       "      <td>0.971687</td>\n",
       "      <td>0.028313</td>\n",
       "      <td>0.031332</td>\n",
       "    </tr>\n",
       "    <tr>\n",
       "      <th>1</th>\n",
       "      <td>1</td>\n",
       "      <td>1137</td>\n",
       "      <td>12</td>\n",
       "      <td>0.990288</td>\n",
       "      <td>0.009712</td>\n",
       "      <td>0.010444</td>\n",
       "    </tr>\n",
       "    <tr>\n",
       "      <th>2</th>\n",
       "      <td>2</td>\n",
       "      <td>1150</td>\n",
       "      <td>4</td>\n",
       "      <td>0.994321</td>\n",
       "      <td>0.005679</td>\n",
       "      <td>0.003466</td>\n",
       "    </tr>\n",
       "    <tr>\n",
       "      <th>3</th>\n",
       "      <td>3</td>\n",
       "      <td>1143</td>\n",
       "      <td>2</td>\n",
       "      <td>0.996329</td>\n",
       "      <td>0.003671</td>\n",
       "      <td>0.001747</td>\n",
       "    </tr>\n",
       "    <tr>\n",
       "      <th>4</th>\n",
       "      <td>4</td>\n",
       "      <td>1146</td>\n",
       "      <td>2</td>\n",
       "      <td>0.997438</td>\n",
       "      <td>0.002562</td>\n",
       "      <td>0.001742</td>\n",
       "    </tr>\n",
       "    <tr>\n",
       "      <th>5</th>\n",
       "      <td>5</td>\n",
       "      <td>1147</td>\n",
       "      <td>2</td>\n",
       "      <td>0.998197</td>\n",
       "      <td>0.001803</td>\n",
       "      <td>0.001741</td>\n",
       "    </tr>\n",
       "    <tr>\n",
       "      <th>6</th>\n",
       "      <td>6</td>\n",
       "      <td>1148</td>\n",
       "      <td>2</td>\n",
       "      <td>0.998753</td>\n",
       "      <td>0.001247</td>\n",
       "      <td>0.001739</td>\n",
       "    </tr>\n",
       "    <tr>\n",
       "      <th>7</th>\n",
       "      <td>7</td>\n",
       "      <td>1153</td>\n",
       "      <td>0</td>\n",
       "      <td>0.999075</td>\n",
       "      <td>0.000925</td>\n",
       "      <td>0.000000</td>\n",
       "    </tr>\n",
       "    <tr>\n",
       "      <th>8</th>\n",
       "      <td>8</td>\n",
       "      <td>1145</td>\n",
       "      <td>1</td>\n",
       "      <td>0.999383</td>\n",
       "      <td>0.000617</td>\n",
       "      <td>0.000873</td>\n",
       "    </tr>\n",
       "    <tr>\n",
       "      <th>9</th>\n",
       "      <td>9</td>\n",
       "      <td>1146</td>\n",
       "      <td>1</td>\n",
       "      <td>0.999723</td>\n",
       "      <td>0.000277</td>\n",
       "      <td>0.000872</td>\n",
       "    </tr>\n",
       "  </tbody>\n",
       "</table>\n",
       "</div>"
      ],
      "text/plain": [
       "   decile  count_good  count_bad  avg_prob_good  avg_prob_bad  bad_rate\n",
       "0       0        1113         36       0.971687      0.028313  0.031332\n",
       "1       1        1137         12       0.990288      0.009712  0.010444\n",
       "2       2        1150          4       0.994321      0.005679  0.003466\n",
       "3       3        1143          2       0.996329      0.003671  0.001747\n",
       "4       4        1146          2       0.997438      0.002562  0.001742\n",
       "5       5        1147          2       0.998197      0.001803  0.001741\n",
       "6       6        1148          2       0.998753      0.001247  0.001739\n",
       "7       7        1153          0       0.999075      0.000925  0.000000\n",
       "8       8        1145          1       0.999383      0.000617  0.000873\n",
       "9       9        1146          1       0.999723      0.000277  0.000872"
      ]
     },
     "execution_count": 369,
     "metadata": {},
     "output_type": "execute_result"
    }
   ],
   "source": [
    "#train data\n",
    "distribution_table_train = X_train_accepted_for_concat.groupby('decile').apply(lambda x: pd.Series({\n",
    "    'count_good': (x['perf2_2_12'] == 'G').sum(), \n",
    "    'count_bad': (x['perf2_2_12'] == 'B').sum(),   \n",
    "    'avg_prob_good': x['probab_good'].mean(),  \n",
    "    'avg_prob_bad': x['probab_bad'].mean(),    \n",
    "    'bad_rate': (x['perf2_2_12'] == 'B').sum() / len(x)  \n",
    "})).reset_index()\n",
    "distribution_table_train['count_good'] = distribution_table_train['count_good'].astype(int)\n",
    "distribution_table_train['count_bad'] = distribution_table_train['count_bad'].astype(int)\n",
    "distribution_table_train"
   ]
  },
  {
   "cell_type": "markdown",
   "id": "1c357ee3-ede0-4c37-8668-9ee2b3746d1e",
   "metadata": {},
   "source": [
    "### Kontrola distribuce dat"
   ]
  },
  {
   "cell_type": "code",
   "execution_count": 249,
   "id": "f437fa33-ef96-4523-a215-53af772ab705",
   "metadata": {},
   "outputs": [
    {
     "data": {
      "image/png": "[encoded data removed]",
      "text/plain": [
       "<Figure size 640x480 with 1 Axes>"
      ]
     },
     "metadata": {},
     "output_type": "display_data"
    }
   ],
   "source": [
    "#neupravováno\n",
    "import seaborn as sns\n",
    "ax = sns.histplot(\n",
    "    data=enriched_accepted_data,\n",
    "    x=\"probab_good\",\n",
    "    hue=\"perf2_2_12\",\n",
    "    element=\"poly\"\n",
    ")"
   ]
  },
  {
   "cell_type": "markdown",
   "id": "b8f26178-912f-4822-b489-67bda2633c06",
   "metadata": {},
   "source": [
    "### 4) Simple Augmentation"
   ]
  },
  {
   "cell_type": "markdown",
   "id": "896774f4-6e62-48cf-954d-c932aeb25a25",
   "metadata": {},
   "source": [
    "#### Příprava proměnných"
   ]
  },
  {
   "cell_type": "code",
   "execution_count": 371,
   "id": "4ac05b68-8806-4606-aa67-af8c182edc07",
   "metadata": {},
   "outputs": [],
   "source": [
    "variables_rejected = [\n",
    "    'CAR_TYPE', 'TERM', 'AGE', 'CB_SCORE', \n",
    "    'DISPOSABLE_INCOME_CPI', 'LOAN_TO_VALUE', \n",
    "    'MARITAL_STATUS', 'TIME_AT_EMPLOYMENT'\n",
    "]"
   ]
  },
  {
   "cell_type": "markdown",
   "id": "01cdbb25-62d3-4ce9-97d1-2dce12b7ced0",
   "metadata": {},
   "source": [
    "#### 4.1) Spočítání model['accepted'] na rejected datech"
   ]
  },
  {
   "cell_type": "code",
   "execution_count": 374,
   "id": "19df0223-11ee-43f4-853c-9c5c659bbdab",
   "metadata": {},
   "outputs": [],
   "source": [
    "rejected_data_dummy = pd.get_dummies(rejected_data[variables_rejected], columns=variables_rejected)\n",
    "rejects_prob_class1 = model['accepted'].predict_proba(rejected_data_dummy)[:, list(model['accepted'].classes_).index(1)]"
   ]
  },
  {
   "cell_type": "code",
   "execution_count": null,
   "id": "1a23c3a1-986d-41fd-80c9-260112a54bc7",
   "metadata": {},
   "outputs": [],
   "source": [
    "BR_cutoff = 0.025\n",
    "cut_off_value = np.quantile(rejects_prob_class1, BR_cutoff)\n",
    "rejected_data.loc[:,'probab_good'] = rejects_prob_class1\n",
    "rejected_data.loc[:,'Predicted_Performance'] = np.where(rejected_data.loc[:,'probab_good'] < cut_off_value, 0, 1)"
   ]
  },
  {
   "cell_type": "code",
   "execution_count": 377,
   "id": "961e2d56-7620-4860-8e59-375095c59d9a",
   "metadata": {},
   "outputs": [
    {
     "data": {
      "text/plain": [
       "0.9401642419452598"
      ]
     },
     "execution_count": 377,
     "metadata": {},
     "output_type": "execute_result"
    }
   ],
   "source": [
    "cut_off_value"
   ]
  },
  {
   "cell_type": "code",
   "execution_count": 378,
   "id": "dbc09dc7-f4c2-4dfe-b3a7-ceb31d39e7d5",
   "metadata": {},
   "outputs": [
    {
     "data": {
      "text/plain": [
       "count   4275.000000\n",
       "mean       0.989448\n",
       "std        0.016510\n",
       "min        0.818959\n",
       "25%        0.987948\n",
       "50%        0.995616\n",
       "75%        0.998417\n",
       "max        0.999895\n",
       "Name: probab_good, dtype: float64"
      ]
     },
     "execution_count": 378,
     "metadata": {},
     "output_type": "execute_result"
    }
   ],
   "source": [
    "rejected_data['probab_good'].describe()"
   ]
  },
  {
   "cell_type": "code",
   "execution_count": 379,
   "id": "e3c890a4-d810-4e6a-89c3-6abf3a5d05dd",
   "metadata": {},
   "outputs": [
    {
     "data": {
      "text/plain": [
       "Predicted_Performance\n",
       "1    4168\n",
       "0     107\n",
       "Name: count, dtype: int64"
      ]
     },
     "execution_count": 379,
     "metadata": {},
     "output_type": "execute_result"
    }
   ],
   "source": [
    "rejected_data[\"Predicted_Performance\"].value_counts()"
   ]
  },
  {
   "cell_type": "markdown",
   "id": "038b27bf-b4ea-44bc-9d86-ab5fc116de5c",
   "metadata": {},
   "source": [
    "#### Kontrola distribuce"
   ]
  },
  {
   "cell_type": "code",
   "execution_count": 380,
   "id": "8630a32b-f2e1-4c07-92f0-4e74f6d30aae",
   "metadata": {},
   "outputs": [
    {
     "data": {
      "image/png": "[encoded data removed]",
      "text/plain": [
       "<Figure size 640x480 with 1 Axes>"
      ]
     },
     "metadata": {},
     "output_type": "display_data"
    }
   ],
   "source": [
    "import seaborn as sns\n",
    "ax = sns.histplot(\n",
    "    data=rejected_data,\n",
    "    x=\"expert_score_cpi\",\n",
    "    hue=\"Predicted_Performance\",\n",
    "    element=\"poly\"\n",
    ")"
   ]
  },
  {
   "cell_type": "markdown",
   "id": "0c89aa9a-6f75-4452-85c9-9a2441bd5e5c",
   "metadata": {},
   "source": [
    "### 4.2) Spojení accepted a rejected dat"
   ]
  },
  {
   "cell_type": "code",
   "execution_count": 382,
   "id": "c3a2fbd3-7ef9-47c9-bec5-c1fd68bd2532",
   "metadata": {},
   "outputs": [],
   "source": [
    "    #Překódování Predicted Performance na 0 a 1, 0 - B, 1 - G\n",
    "X_train_accepted_for_concat.loc[:,'Predicted_Performance'] = X_train_accepted_for_concat.loc[:,'perf2_2_12']\n",
    "X_train_accepted_for_concat.loc[:,'Predicted_Performance'] = encoder.fit_transform(X_train_accepted_for_concat['Predicted_Performance'])\n",
    "X_train_accepted_rejected_combined = pd.concat([X_train_accepted_for_concat, rejected_data], ignore_index=True)"
   ]
  },
  {
   "cell_type": "markdown",
   "id": "b538df3b-cbf0-4be6-8d69-3691b02c04cd",
   "metadata": {},
   "source": [
    "#### Kontrola distribuce"
   ]
  },
  {
   "cell_type": "code",
   "execution_count": 383,
   "id": "5bbc8626-4ea5-418e-882b-67f2e1d85142",
   "metadata": {},
   "outputs": [
    {
     "data": {
      "text/plain": [
       "Predicted_Performance\n",
       "1    15596\n",
       "0      169\n",
       "Name: count, dtype: int64"
      ]
     },
     "execution_count": 383,
     "metadata": {},
     "output_type": "execute_result"
    }
   ],
   "source": [
    "X_train_accepted_rejected_combined['Predicted_Performance'].value_counts()"
   ]
  },
  {
   "cell_type": "code",
   "execution_count": 384,
   "id": "e35bf629-d4b9-4b58-8414-2b4c0e1d5d9d",
   "metadata": {},
   "outputs": [
    {
     "data": {
      "image/png": "[encoded data removed]",
      "text/plain": [
       "<Figure size 640x480 with 1 Axes>"
      ]
     },
     "metadata": {},
     "output_type": "display_data"
    }
   ],
   "source": [
    "import seaborn as sns\n",
    "ax = sns.histplot(\n",
    "    data=X_train_accepted_rejected_combined,\n",
    "    x=\"expert_score_cpi\",\n",
    "    hue=\"Predicted_Performance\",\n",
    "    element=\"poly\"\n",
    ")"
   ]
  },
  {
   "cell_type": "markdown",
   "id": "a75a3359-9b44-4043-a278-4d76a355e6f7",
   "metadata": {},
   "source": [
    "### 4.3) Znovuspočítání modelu po navýšení počtu bad"
   ]
  },
  {
   "cell_type": "markdown",
   "id": "113003fc-6eb6-493d-bc3b-e27cdcaf0454",
   "metadata": {},
   "source": [
    "#### Příprava proměnných"
   ]
  },
  {
   "cell_type": "code",
   "execution_count": 418,
   "id": "8629617a-0693-4a99-93c8-5f7c1556ed99",
   "metadata": {},
   "outputs": [],
   "source": [
    "variables_combined = [\n",
    "    'CAR_TYPE', 'TERM', 'AGE', 'CB_SCORE', \n",
    "    'DISPOSABLE_INCOME_CPI', 'LOAN_TO_VALUE', \n",
    "    'MARITAL_STATUS', 'TIME_AT_EMPLOYMENT'\n",
    "]\n",
    "X_combined = X_train_accepted_rejected_combined[variables_combined]\n",
    "y_combined = X_train_accepted_rejected_combined['Predicted_Performance']"
   ]
  },
  {
   "cell_type": "markdown",
   "id": "28f9ca56-5c18-44c8-b77d-c2cc03c57b63",
   "metadata": {},
   "source": [
    "#### Rozdělení datasetu"
   ]
  },
  {
   "cell_type": "code",
   "execution_count": 419,
   "id": "fcd78b78-3483-493c-bb24-dbb831d1405d",
   "metadata": {},
   "outputs": [],
   "source": [
    "X_train_combined, X_test_combined, y_train_combined, y_test_combined = train_test_split(X_combined, y_combined, test_size=0.3, random_state=42, stratify=y_combined)"
   ]
  },
  {
   "cell_type": "markdown",
   "id": "a9c747c6-514c-4b3c-968f-d93510ec0b57",
   "metadata": {},
   "source": [
    "#### Převedení na dummy a uložení proměnných"
   ]
  },
  {
   "cell_type": "code",
   "execution_count": 420,
   "id": "e9a5c47f-02d9-4967-9933-c9064e306258",
   "metadata": {},
   "outputs": [],
   "source": [
    "X_train_combined_dummy = pd.get_dummies(X_train_combined, columns=variables_combined)\n",
    "X_test_combined_dummy = pd.get_dummies(X_test_combined, columns=variables_combined)\n",
    "y_train_combined = y_train_combined.astype(int)\n",
    "y_test_combined = y_test_combined.astype(int)"
   ]
  },
  {
   "cell_type": "markdown",
   "id": "b9e0d86c-8bf1-407f-98e1-b769fec6c199",
   "metadata": {},
   "source": [
    "#### Výpočet modelu model['combined']"
   ]
  },
  {
   "cell_type": "code",
   "execution_count": 421,
   "id": "f36d2f07-2630-4661-b79f-56c5eb321d18",
   "metadata": {},
   "outputs": [
    {
     "data": {
      "text/html": [
       "<style>#sk-container-id-10 {\n",
       "  /* Definition of color scheme common for light and dark mode */\n",
       "  --sklearn-color-text: black;\n",
       "  --sklearn-color-line: gray;\n",
       "  /* Definition of color scheme for unfitted estimators */\n",
       "  --sklearn-color-unfitted-level-0: #fff5e6;\n",
       "  --sklearn-color-unfitted-level-1: #f6e4d2;\n",
       "  --sklearn-color-unfitted-level-2: #ffe0b3;\n",
       "  --sklearn-color-unfitted-level-3: chocolate;\n",
       "  /* Definition of color scheme for fitted estimators */\n",
       "  --sklearn-color-fitted-level-0: #f0f8ff;\n",
       "  --sklearn-color-fitted-level-1: #d4ebff;\n",
       "  --sklearn-color-fitted-level-2: #b3dbfd;\n",
       "  --sklearn-color-fitted-level-3: cornflowerblue;\n",
       "\n",
       "  /* Specific color for light theme */\n",
       "  --sklearn-color-text-on-default-background: var(--sg-text-color, var(--theme-code-foreground, var(--jp-content-font-color1, black)));\n",
       "  --sklearn-color-background: var(--sg-background-color, var(--theme-background, var(--jp-layout-color0, white)));\n",
       "  --sklearn-color-border-box: var(--sg-text-color, var(--theme-code-foreground, var(--jp-content-font-color1, black)));\n",
       "  --sklearn-color-icon: #696969;\n",
       "\n",
       "  @media (prefers-color-scheme: dark) {\n",
       "    /* Redefinition of color scheme for dark theme */\n",
       "    --sklearn-color-text-on-default-background: var(--sg-text-color, var(--theme-code-foreground, var(--jp-content-font-color1, white)));\n",
       "    --sklearn-color-background: var(--sg-background-color, var(--theme-background, var(--jp-layout-color0, #111)));\n",
       "    --sklearn-color-border-box: var(--sg-text-color, var(--theme-code-foreground, var(--jp-content-font-color1, white)));\n",
       "    --sklearn-color-icon: #878787;\n",
       "  }\n",
       "}\n",
       "\n",
       "#sk-container-id-10 {\n",
       "  color: var(--sklearn-color-text);\n",
       "}\n",
       "\n",
       "#sk-container-id-10 pre {\n",
       "  padding: 0;\n",
       "}\n",
       "\n",
       "#sk-container-id-10 input.sk-hidden--visually {\n",
       "  border: 0;\n",
       "  clip: rect(1px 1px 1px 1px);\n",
       "  clip: rect(1px, 1px, 1px, 1px);\n",
       "  height: 1px;\n",
       "  margin: -1px;\n",
       "  overflow: hidden;\n",
       "  padding: 0;\n",
       "  position: absolute;\n",
       "  width: 1px;\n",
       "}\n",
       "\n",
       "#sk-container-id-10 div.sk-dashed-wrapped {\n",
       "  border: 1px dashed var(--sklearn-color-line);\n",
       "  margin: 0 0.4em 0.5em 0.4em;\n",
       "  box-sizing: border-box;\n",
       "  padding-bottom: 0.4em;\n",
       "  background-color: var(--sklearn-color-background);\n",
       "}\n",
       "\n",
       "#sk-container-id-10 div.sk-container {\n",
       "  /* jupyter's `normalize.less` sets `[hidden] { display: none; }`\n",
       "     but bootstrap.min.css set `[hidden] { display: none !important; }`\n",
       "     so we also need the `!important` here to be able to override the\n",
       "     default hidden behavior on the sphinx rendered scikit-learn.org.\n",
       "     See: https://github.com/scikit-learn/scikit-learn/issues/21755 */\n",
       "  display: inline-block !important;\n",
       "  position: relative;\n",
       "}\n",
       "\n",
       "#sk-container-id-10 div.sk-text-repr-fallback {\n",
       "  display: none;\n",
       "}\n",
       "\n",
       "div.sk-parallel-item,\n",
       "div.sk-serial,\n",
       "div.sk-item {\n",
       "  /* draw centered vertical line to link estimators */\n",
       "  background-image: linear-gradient(var(--sklearn-color-text-on-default-background), var(--sklearn-color-text-on-default-background));\n",
       "  background-size: 2px 100%;\n",
       "  background-repeat: no-repeat;\n",
       "  background-position: center center;\n",
       "}\n",
       "\n",
       "/* Parallel-specific style estimator block */\n",
       "\n",
       "#sk-container-id-10 div.sk-parallel-item::after {\n",
       "  content: \"\";\n",
       "  width: 100%;\n",
       "  border-bottom: 2px solid var(--sklearn-color-text-on-default-background);\n",
       "  flex-grow: 1;\n",
       "}\n",
       "\n",
       "#sk-container-id-10 div.sk-parallel {\n",
       "  display: flex;\n",
       "  align-items: stretch;\n",
       "  justify-content: center;\n",
       "  background-color: var(--sklearn-color-background);\n",
       "  position: relative;\n",
       "}\n",
       "\n",
       "#sk-container-id-10 div.sk-parallel-item {\n",
       "  display: flex;\n",
       "  flex-direction: column;\n",
       "}\n",
       "\n",
       "#sk-container-id-10 div.sk-parallel-item:first-child::after {\n",
       "  align-self: flex-end;\n",
       "  width: 50%;\n",
       "}\n",
       "\n",
       "#sk-container-id-10 div.sk-parallel-item:last-child::after {\n",
       "  align-self: flex-start;\n",
       "  width: 50%;\n",
       "}\n",
       "\n",
       "#sk-container-id-10 div.sk-parallel-item:only-child::after {\n",
       "  width: 0;\n",
       "}\n",
       "\n",
       "/* Serial-specific style estimator block */\n",
       "\n",
       "#sk-container-id-10 div.sk-serial {\n",
       "  display: flex;\n",
       "  flex-direction: column;\n",
       "  align-items: center;\n",
       "  background-color: var(--sklearn-color-background);\n",
       "  padding-right: 1em;\n",
       "  padding-left: 1em;\n",
       "}\n",
       "\n",
       "\n",
       "/* Toggleable style: style used for estimator/Pipeline/ColumnTransformer box that is\n",
       "clickable and can be expanded/collapsed.\n",
       "- Pipeline and ColumnTransformer use this feature and define the default style\n",
       "- Estimators will overwrite some part of the style using the `sk-estimator` class\n",
       "*/\n",
       "\n",
       "/* Pipeline and ColumnTransformer style (default) */\n",
       "\n",
       "#sk-container-id-10 div.sk-toggleable {\n",
       "  /* Default theme specific background. It is overwritten whether we have a\n",
       "  specific estimator or a Pipeline/ColumnTransformer */\n",
       "  background-color: var(--sklearn-color-background);\n",
       "}\n",
       "\n",
       "/* Toggleable label */\n",
       "#sk-container-id-10 label.sk-toggleable__label {\n",
       "  cursor: pointer;\n",
       "  display: block;\n",
       "  width: 100%;\n",
       "  margin-bottom: 0;\n",
       "  padding: 0.5em;\n",
       "  box-sizing: border-box;\n",
       "  text-align: center;\n",
       "}\n",
       "\n",
       "#sk-container-id-10 label.sk-toggleable__label-arrow:before {\n",
       "  /* Arrow on the left of the label */\n",
       "  content: \"▸\";\n",
       "  float: left;\n",
       "  margin-right: 0.25em;\n",
       "  color: var(--sklearn-color-icon);\n",
       "}\n",
       "\n",
       "#sk-container-id-10 label.sk-toggleable__label-arrow:hover:before {\n",
       "  color: var(--sklearn-color-text);\n",
       "}\n",
       "\n",
       "/* Toggleable content - dropdown */\n",
       "\n",
       "#sk-container-id-10 div.sk-toggleable__content {\n",
       "  max-height: 0;\n",
       "  max-width: 0;\n",
       "  overflow: hidden;\n",
       "  text-align: left;\n",
       "  /* unfitted */\n",
       "  background-color: var(--sklearn-color-unfitted-level-0);\n",
       "}\n",
       "\n",
       "#sk-container-id-10 div.sk-toggleable__content.fitted {\n",
       "  /* fitted */\n",
       "  background-color: var(--sklearn-color-fitted-level-0);\n",
       "}\n",
       "\n",
       "#sk-container-id-10 div.sk-toggleable__content pre {\n",
       "  margin: 0.2em;\n",
       "  border-radius: 0.25em;\n",
       "  color: var(--sklearn-color-text);\n",
       "  /* unfitted */\n",
       "  background-color: var(--sklearn-color-unfitted-level-0);\n",
       "}\n",
       "\n",
       "#sk-container-id-10 div.sk-toggleable__content.fitted pre {\n",
       "  /* unfitted */\n",
       "  background-color: var(--sklearn-color-fitted-level-0);\n",
       "}\n",
       "\n",
       "#sk-container-id-10 input.sk-toggleable__control:checked~div.sk-toggleable__content {\n",
       "  /* Expand drop-down */\n",
       "  max-height: 200px;\n",
       "  max-width: 100%;\n",
       "  overflow: auto;\n",
       "}\n",
       "\n",
       "#sk-container-id-10 input.sk-toggleable__control:checked~label.sk-toggleable__label-arrow:before {\n",
       "  content: \"▾\";\n",
       "}\n",
       "\n",
       "/* Pipeline/ColumnTransformer-specific style */\n",
       "\n",
       "#sk-container-id-10 div.sk-label input.sk-toggleable__control:checked~label.sk-toggleable__label {\n",
       "  color: var(--sklearn-color-text);\n",
       "  background-color: var(--sklearn-color-unfitted-level-2);\n",
       "}\n",
       "\n",
       "#sk-container-id-10 div.sk-label.fitted input.sk-toggleable__control:checked~label.sk-toggleable__label {\n",
       "  background-color: var(--sklearn-color-fitted-level-2);\n",
       "}\n",
       "\n",
       "/* Estimator-specific style */\n",
       "\n",
       "/* Colorize estimator box */\n",
       "#sk-container-id-10 div.sk-estimator input.sk-toggleable__control:checked~label.sk-toggleable__label {\n",
       "  /* unfitted */\n",
       "  background-color: var(--sklearn-color-unfitted-level-2);\n",
       "}\n",
       "\n",
       "#sk-container-id-10 div.sk-estimator.fitted input.sk-toggleable__control:checked~label.sk-toggleable__label {\n",
       "  /* fitted */\n",
       "  background-color: var(--sklearn-color-fitted-level-2);\n",
       "}\n",
       "\n",
       "#sk-container-id-10 div.sk-label label.sk-toggleable__label,\n",
       "#sk-container-id-10 div.sk-label label {\n",
       "  /* The background is the default theme color */\n",
       "  color: var(--sklearn-color-text-on-default-background);\n",
       "}\n",
       "\n",
       "/* On hover, darken the color of the background */\n",
       "#sk-container-id-10 div.sk-label:hover label.sk-toggleable__label {\n",
       "  color: var(--sklearn-color-text);\n",
       "  background-color: var(--sklearn-color-unfitted-level-2);\n",
       "}\n",
       "\n",
       "/* Label box, darken color on hover, fitted */\n",
       "#sk-container-id-10 div.sk-label.fitted:hover label.sk-toggleable__label.fitted {\n",
       "  color: var(--sklearn-color-text);\n",
       "  background-color: var(--sklearn-color-fitted-level-2);\n",
       "}\n",
       "\n",
       "/* Estimator label */\n",
       "\n",
       "#sk-container-id-10 div.sk-label label {\n",
       "  font-family: monospace;\n",
       "  font-weight: bold;\n",
       "  display: inline-block;\n",
       "  line-height: 1.2em;\n",
       "}\n",
       "\n",
       "#sk-container-id-10 div.sk-label-container {\n",
       "  text-align: center;\n",
       "}\n",
       "\n",
       "/* Estimator-specific */\n",
       "#sk-container-id-10 div.sk-estimator {\n",
       "  font-family: monospace;\n",
       "  border: 1px dotted var(--sklearn-color-border-box);\n",
       "  border-radius: 0.25em;\n",
       "  box-sizing: border-box;\n",
       "  margin-bottom: 0.5em;\n",
       "  /* unfitted */\n",
       "  background-color: var(--sklearn-color-unfitted-level-0);\n",
       "}\n",
       "\n",
       "#sk-container-id-10 div.sk-estimator.fitted {\n",
       "  /* fitted */\n",
       "  background-color: var(--sklearn-color-fitted-level-0);\n",
       "}\n",
       "\n",
       "/* on hover */\n",
       "#sk-container-id-10 div.sk-estimator:hover {\n",
       "  /* unfitted */\n",
       "  background-color: var(--sklearn-color-unfitted-level-2);\n",
       "}\n",
       "\n",
       "#sk-container-id-10 div.sk-estimator.fitted:hover {\n",
       "  /* fitted */\n",
       "  background-color: var(--sklearn-color-fitted-level-2);\n",
       "}\n",
       "\n",
       "/* Specification for estimator info (e.g. \"i\" and \"?\") */\n",
       "\n",
       "/* Common style for \"i\" and \"?\" */\n",
       "\n",
       ".sk-estimator-doc-link,\n",
       "a:link.sk-estimator-doc-link,\n",
       "a:visited.sk-estimator-doc-link {\n",
       "  float: right;\n",
       "  font-size: smaller;\n",
       "  line-height: 1em;\n",
       "  font-family: monospace;\n",
       "  background-color: var(--sklearn-color-background);\n",
       "  border-radius: 1em;\n",
       "  height: 1em;\n",
       "  width: 1em;\n",
       "  text-decoration: none !important;\n",
       "  margin-left: 1ex;\n",
       "  /* unfitted */\n",
       "  border: var(--sklearn-color-unfitted-level-1) 1pt solid;\n",
       "  color: var(--sklearn-color-unfitted-level-1);\n",
       "}\n",
       "\n",
       ".sk-estimator-doc-link.fitted,\n",
       "a:link.sk-estimator-doc-link.fitted,\n",
       "a:visited.sk-estimator-doc-link.fitted {\n",
       "  /* fitted */\n",
       "  border: var(--sklearn-color-fitted-level-1) 1pt solid;\n",
       "  color: var(--sklearn-color-fitted-level-1);\n",
       "}\n",
       "\n",
       "/* On hover */\n",
       "div.sk-estimator:hover .sk-estimator-doc-link:hover,\n",
       ".sk-estimator-doc-link:hover,\n",
       "div.sk-label-container:hover .sk-estimator-doc-link:hover,\n",
       ".sk-estimator-doc-link:hover {\n",
       "  /* unfitted */\n",
       "  background-color: var(--sklearn-color-unfitted-level-3);\n",
       "  color: var(--sklearn-color-background);\n",
       "  text-decoration: none;\n",
       "}\n",
       "\n",
       "div.sk-estimator.fitted:hover .sk-estimator-doc-link.fitted:hover,\n",
       ".sk-estimator-doc-link.fitted:hover,\n",
       "div.sk-label-container:hover .sk-estimator-doc-link.fitted:hover,\n",
       ".sk-estimator-doc-link.fitted:hover {\n",
       "  /* fitted */\n",
       "  background-color: var(--sklearn-color-fitted-level-3);\n",
       "  color: var(--sklearn-color-background);\n",
       "  text-decoration: none;\n",
       "}\n",
       "\n",
       "/* Span, style for the box shown on hovering the info icon */\n",
       ".sk-estimator-doc-link span {\n",
       "  display: none;\n",
       "  z-index: 9999;\n",
       "  position: relative;\n",
       "  font-weight: normal;\n",
       "  right: .2ex;\n",
       "  padding: .5ex;\n",
       "  margin: .5ex;\n",
       "  width: min-content;\n",
       "  min-width: 20ex;\n",
       "  max-width: 50ex;\n",
       "  color: var(--sklearn-color-text);\n",
       "  box-shadow: 2pt 2pt 4pt #999;\n",
       "  /* unfitted */\n",
       "  background: var(--sklearn-color-unfitted-level-0);\n",
       "  border: .5pt solid var(--sklearn-color-unfitted-level-3);\n",
       "}\n",
       "\n",
       ".sk-estimator-doc-link.fitted span {\n",
       "  /* fitted */\n",
       "  background: var(--sklearn-color-fitted-level-0);\n",
       "  border: var(--sklearn-color-fitted-level-3);\n",
       "}\n",
       "\n",
       ".sk-estimator-doc-link:hover span {\n",
       "  display: block;\n",
       "}\n",
       "\n",
       "/* \"?\"-specific style due to the `<a>` HTML tag */\n",
       "\n",
       "#sk-container-id-10 a.estimator_doc_link {\n",
       "  float: right;\n",
       "  font-size: 1rem;\n",
       "  line-height: 1em;\n",
       "  font-family: monospace;\n",
       "  background-color: var(--sklearn-color-background);\n",
       "  border-radius: 1rem;\n",
       "  height: 1rem;\n",
       "  width: 1rem;\n",
       "  text-decoration: none;\n",
       "  /* unfitted */\n",
       "  color: var(--sklearn-color-unfitted-level-1);\n",
       "  border: var(--sklearn-color-unfitted-level-1) 1pt solid;\n",
       "}\n",
       "\n",
       "#sk-container-id-10 a.estimator_doc_link.fitted {\n",
       "  /* fitted */\n",
       "  border: var(--sklearn-color-fitted-level-1) 1pt solid;\n",
       "  color: var(--sklearn-color-fitted-level-1);\n",
       "}\n",
       "\n",
       "/* On hover */\n",
       "#sk-container-id-10 a.estimator_doc_link:hover {\n",
       "  /* unfitted */\n",
       "  background-color: var(--sklearn-color-unfitted-level-3);\n",
       "  color: var(--sklearn-color-background);\n",
       "  text-decoration: none;\n",
       "}\n",
       "\n",
       "#sk-container-id-10 a.estimator_doc_link.fitted:hover {\n",
       "  /* fitted */\n",
       "  background-color: var(--sklearn-color-fitted-level-3);\n",
       "}\n",
       "</style><div id=\"sk-container-id-10\" class=\"sk-top-container\"><div class=\"sk-text-repr-fallback\"><pre>LogisticRegression(max_iter=1000)</pre><b>In a Jupyter environment, please rerun this cell to show the HTML representation or trust the notebook. <br />On GitHub, the HTML representation is unable to render, please try loading this page with nbviewer.org.</b></div><div class=\"sk-container\" hidden><div class=\"sk-item\"><div class=\"sk-estimator fitted sk-toggleable\"><input class=\"sk-toggleable__control sk-hidden--visually\" id=\"sk-estimator-id-10\" type=\"checkbox\" checked><label for=\"sk-estimator-id-10\" class=\"sk-toggleable__label fitted sk-toggleable__label-arrow fitted\">&nbsp;&nbsp;LogisticRegression<a class=\"sk-estimator-doc-link fitted\" rel=\"noreferrer\" target=\"_blank\" href=\"https://scikit-learn.org/1.4/modules/generated/sklearn.linear_model.LogisticRegression.html\">?<span>Documentation for LogisticRegression</span></a><span class=\"sk-estimator-doc-link fitted\">i<span>Fitted</span></span></label><div class=\"sk-toggleable__content fitted\"><pre>LogisticRegression(max_iter=1000)</pre></div> </div></div></div></div>"
      ],
      "text/plain": [
       "LogisticRegression(max_iter=1000)"
      ]
     },
     "execution_count": 421,
     "metadata": {},
     "output_type": "execute_result"
    }
   ],
   "source": [
    "model['combined'] = LogisticRegression(solver='lbfgs', max_iter=1000)\n",
    "model['combined'].fit(X_train_combined_dummy, y_train_combined)"
   ]
  },
  {
   "cell_type": "code",
   "execution_count": 423,
   "id": "dc4ea40c-fd32-4db9-844a-3b8ecbc3fe84",
   "metadata": {},
   "outputs": [],
   "source": [
    "#predikce pro test data\n",
    "y_pred_test_combined = model['combined'].predict(X_test_combined_dummy)\n",
    "y_prob_test_combined = model['combined'].predict_proba(X_test_combined_dummy)\n",
    "y_prob_class0_test_combined = y_prob_test_combined[:,0]\n",
    "y_prob_class1_test_combined = y_prob_test_combined[:,1]"
   ]
  },
  {
   "cell_type": "code",
   "execution_count": 424,
   "id": "028a2d77-208d-474d-a71a-d27fdbc92ae3",
   "metadata": {},
   "outputs": [],
   "source": [
    "#pro train data\n",
    "y_pred_train_combined = model['combined'].predict(X_train_combined_dummy)\n",
    "y_prob_train_combined = model['combined'].predict_proba(X_train_combined_dummy)\n",
    "y_prob_class0_train_combined = y_prob_train_combined[:,0]\n",
    "y_prob_class1_train_combined = y_prob_train_combined[:,1]"
   ]
  },
  {
   "cell_type": "markdown",
   "id": "c0bc2c95-6911-42d0-8103-db678680a5db",
   "metadata": {},
   "source": [
    "#### Performance metriky"
   ]
  },
  {
   "cell_type": "markdown",
   "id": "4e42f8b3-b4d9-44ab-b025-b3bca2c881ce",
   "metadata": {},
   "source": [
    "##### test data"
   ]
  },
  {
   "cell_type": "code",
   "execution_count": 425,
   "id": "726da787-2b73-4cdc-99b5-57c32c88e91f",
   "metadata": {},
   "outputs": [
    {
     "data": {
      "text/plain": [
       "0.8314747997938217"
      ]
     },
     "execution_count": 425,
     "metadata": {},
     "output_type": "execute_result"
    }
   ],
   "source": [
    "from sklearn.metrics import roc_auc_score\n",
    "auc_score = roc_auc_score(y_test_combined, y_prob_class1_test_combined)\n",
    "gini = auc_score*2-1\n",
    "gini"
   ]
  },
  {
   "cell_type": "markdown",
   "id": "9bb2d1e1-9572-4c8b-a750-22a445dcb808",
   "metadata": {},
   "source": [
    "##### train data"
   ]
  },
  {
   "cell_type": "code",
   "execution_count": 426,
   "id": "78038bc6-91c8-49f7-bab5-c80866ea987f",
   "metadata": {},
   "outputs": [
    {
     "data": {
      "text/plain": [
       "0.8658863566851887"
      ]
     },
     "execution_count": 426,
     "metadata": {},
     "output_type": "execute_result"
    }
   ],
   "source": [
    "auc_score = roc_auc_score(y_train_combined, y_prob_class1_train_combined)\n",
    "gini = auc_score*2-1\n",
    "gini"
   ]
  },
  {
   "cell_type": "markdown",
   "id": "57fb1240-4c90-4eb3-a856-efa63b9f3065",
   "metadata": {},
   "source": [
    "#### Performance metriky na test accepted datech"
   ]
  },
  {
   "cell_type": "code",
   "execution_count": 427,
   "id": "07cc1dd7-91e9-4c1b-bd88-ffaaf36616a7",
   "metadata": {},
   "outputs": [
    {
     "name": "stdout",
     "output_type": "stream",
     "text": [
      "Počet záznamů v X_test_accepted: 4925\n",
      "Počet záznamů v y_test_accepted: 4925\n"
     ]
    }
   ],
   "source": [
    "print(\"Počet záznamů v X_test_accepted:\", len(X_test_accepted_dummy))\n",
    "print(\"Počet záznamů v y_test_accepted:\", len(y_test_accepted))"
   ]
  },
  {
   "cell_type": "code",
   "execution_count": 428,
   "id": "d4366369-ef7b-48a5-9915-d7f19bb471f3",
   "metadata": {},
   "outputs": [],
   "source": [
    "y_prob_accepted_test_combined = model['combined'].predict_proba(X_test_accepted_dummy)\n",
    "y_prob_class0_accepted_test_combined = y_prob_accepted_test_combined[:,0]\n",
    "y_prob_class1_accepted_test_combined = y_prob_accepted_test_combined[:,1]"
   ]
  },
  {
   "cell_type": "code",
   "execution_count": 429,
   "id": "003ea3cb-f30e-4595-9387-412bbb1ab694",
   "metadata": {},
   "outputs": [
    {
     "data": {
      "text/plain": [
       "0.600320614612162"
      ]
     },
     "execution_count": 429,
     "metadata": {},
     "output_type": "execute_result"
    }
   ],
   "source": [
    "auc_score = roc_auc_score(y_test_accepted, y_prob_class1_accepted_test_combined)\n",
    "gini = auc_score*2-1\n",
    "gini"
   ]
  },
  {
   "cell_type": "code",
   "execution_count": 434,
   "id": "b237e165-02a8-4c32-9d1d-4c814a854f9d",
   "metadata": {},
   "outputs": [
    {
     "data": {
      "text/plain": [
       "0\n",
       "1    4898\n",
       "0      27\n",
       "Name: count, dtype: int64"
      ]
     },
     "execution_count": 434,
     "metadata": {},
     "output_type": "execute_result"
    }
   ],
   "source": [
    "pd.DataFrame(y_test_accepted).value_counts()"
   ]
  },
  {
   "cell_type": "markdown",
   "id": "0f118d3d-a75a-4f48-a6f5-d21a945349e6",
   "metadata": {},
   "source": [
    "#### Distribuce na accepted datech"
   ]
  },
  {
   "cell_type": "code",
   "execution_count": null,
   "id": "231cda0e-0713-4428-9dfa-dc86c3e555ce",
   "metadata": {},
   "outputs": [],
   "source": [
    "# Rozdělení y_prob_class1_accepted_test na decily\n",
    "# Aplikovat na dataset - vytvořit sloupec s rozdělením do skupin na zákl. decilů\n",
    "# Pro každý decil spočítat BR\n",
    "# Vygenerovat tabulku"
   ]
  },
  {
   "cell_type": "code",
   "execution_count": 449,
   "id": "9f497e0d-0150-44e7-8d5b-19b9fcbbc622",
   "metadata": {},
   "outputs": [],
   "source": [
    "X_test_accepted_combined_m_distribution = X_test_accepted.copy()\n",
    "X_test_accepted_combined_m_distribution['probab_good'] = y_prob_class1_accepted_test_combined\n",
    "X_test_accepted_combined_m_distribution['probab_bad'] = 1 - y_prob_class1_accepted_test_combined"
   ]
  },
  {
   "cell_type": "code",
   "execution_count": 450,
   "id": "dbf8c5d4-e44d-4868-b242-9d9dd8b74c44",
   "metadata": {},
   "outputs": [
    {
     "data": {
      "text/plain": [
       "array([0.28396771, 0.98680479, 0.99638051, 0.99848102, 0.99919518,\n",
       "       0.99957367, 0.9997241 , 0.99986592, 0.99993545, 0.99997642])"
      ]
     },
     "execution_count": 450,
     "metadata": {},
     "output_type": "execute_result"
    }
   ],
   "source": [
    "deciles_accepted_test_combined = np.percentile(X_test_accepted_combined_m_distribution['probab_good'], np.arange(0, 100, 10))\n",
    "y_prob_accepted_test_combined_class_deciles = pd.qcut(X_test_accepted_combined_m_distribution['probab_good'], 10, labels=False)\n",
    "deciles_accepted_test_combined"
   ]
  },
  {
   "cell_type": "code",
   "execution_count": 451,
   "id": "84ddd511-4e93-4876-813e-2984760bd420",
   "metadata": {},
   "outputs": [],
   "source": [
    "X_test_accepted_combined_m_distribution['decile'] = y_prob_accepted_test_combined_class_deciles"
   ]
  },
  {
   "cell_type": "code",
   "execution_count": 452,
   "id": "4c5cabbc-6e28-426b-a925-c2019bfce3ba",
   "metadata": {},
   "outputs": [
    {
     "data": {
      "text/plain": [
       "count   4925.000000\n",
       "mean       0.992400\n",
       "std        0.033135\n",
       "min        0.283968\n",
       "25%        0.997786\n",
       "50%        0.999574\n",
       "75%        0.999908\n",
       "max        0.999998\n",
       "Name: probab_good, dtype: float64"
      ]
     },
     "execution_count": 452,
     "metadata": {},
     "output_type": "execute_result"
    }
   ],
   "source": [
    "X_test_accepted_combined_m_distribution['probab_good'].describe()"
   ]
  },
  {
   "cell_type": "code",
   "execution_count": 453,
   "id": "d33a4f2a-3f1f-420c-abce-e8c00eeceb82",
   "metadata": {},
   "outputs": [
    {
     "name": "stderr",
     "output_type": "stream",
     "text": [
      "C:\\Users\\cza187adebec\\AppData\\Local\\Temp\\ipykernel_14116\\8059532.py:2: DeprecationWarning: DataFrameGroupBy.apply operated on the grouping columns. This behavior is deprecated, and in a future version of pandas the grouping columns will be excluded from the operation. Either pass `include_groups=False` to exclude the groupings or explicitly select the grouping columns after groupby to silence this warning.\n",
      "  distribution_table = X_test_accepted_combined_m_distribution.groupby('decile').apply(lambda x: pd.Series({\n"
     ]
    },
    {
     "data": {
      "text/html": [
       "<div>\n",
       "<style scoped>\n",
       "    .dataframe tbody tr th:only-of-type {\n",
       "        vertical-align: middle;\n",
       "    }\n",
       "\n",
       "    .dataframe tbody tr th {\n",
       "        vertical-align: top;\n",
       "    }\n",
       "\n",
       "    .dataframe thead th {\n",
       "        text-align: right;\n",
       "    }\n",
       "</style>\n",
       "<table border=\"1\" class=\"dataframe\">\n",
       "  <thead>\n",
       "    <tr style=\"text-align: right;\">\n",
       "      <th></th>\n",
       "      <th>decile</th>\n",
       "      <th>count_good</th>\n",
       "      <th>count_bad</th>\n",
       "      <th>avg_prob_good</th>\n",
       "      <th>avg_prob_bad</th>\n",
       "      <th>bad_rate</th>\n",
       "    </tr>\n",
       "  </thead>\n",
       "  <tbody>\n",
       "    <tr>\n",
       "      <th>0</th>\n",
       "      <td>0</td>\n",
       "      <td>479</td>\n",
       "      <td>14</td>\n",
       "      <td>0.935537</td>\n",
       "      <td>0.064463</td>\n",
       "      <td>0.028398</td>\n",
       "    </tr>\n",
       "    <tr>\n",
       "      <th>1</th>\n",
       "      <td>1</td>\n",
       "      <td>490</td>\n",
       "      <td>2</td>\n",
       "      <td>0.993240</td>\n",
       "      <td>0.006760</td>\n",
       "      <td>0.004065</td>\n",
       "    </tr>\n",
       "    <tr>\n",
       "      <th>2</th>\n",
       "      <td>2</td>\n",
       "      <td>489</td>\n",
       "      <td>4</td>\n",
       "      <td>0.997661</td>\n",
       "      <td>0.002339</td>\n",
       "      <td>0.008114</td>\n",
       "    </tr>\n",
       "    <tr>\n",
       "      <th>3</th>\n",
       "      <td>3</td>\n",
       "      <td>493</td>\n",
       "      <td>2</td>\n",
       "      <td>0.998880</td>\n",
       "      <td>0.001120</td>\n",
       "      <td>0.004040</td>\n",
       "    </tr>\n",
       "    <tr>\n",
       "      <th>4</th>\n",
       "      <td>4</td>\n",
       "      <td>490</td>\n",
       "      <td>1</td>\n",
       "      <td>0.999412</td>\n",
       "      <td>0.000588</td>\n",
       "      <td>0.002037</td>\n",
       "    </tr>\n",
       "    <tr>\n",
       "      <th>5</th>\n",
       "      <td>5</td>\n",
       "      <td>490</td>\n",
       "      <td>1</td>\n",
       "      <td>0.999670</td>\n",
       "      <td>0.000330</td>\n",
       "      <td>0.002037</td>\n",
       "    </tr>\n",
       "    <tr>\n",
       "      <th>6</th>\n",
       "      <td>6</td>\n",
       "      <td>490</td>\n",
       "      <td>2</td>\n",
       "      <td>0.999807</td>\n",
       "      <td>0.000193</td>\n",
       "      <td>0.004065</td>\n",
       "    </tr>\n",
       "    <tr>\n",
       "      <th>7</th>\n",
       "      <td>7</td>\n",
       "      <td>497</td>\n",
       "      <td>1</td>\n",
       "      <td>0.999907</td>\n",
       "      <td>0.000093</td>\n",
       "      <td>0.002008</td>\n",
       "    </tr>\n",
       "    <tr>\n",
       "      <th>8</th>\n",
       "      <td>8</td>\n",
       "      <td>488</td>\n",
       "      <td>0</td>\n",
       "      <td>0.999960</td>\n",
       "      <td>0.000040</td>\n",
       "      <td>0.000000</td>\n",
       "    </tr>\n",
       "    <tr>\n",
       "      <th>9</th>\n",
       "      <td>9</td>\n",
       "      <td>492</td>\n",
       "      <td>0</td>\n",
       "      <td>0.999987</td>\n",
       "      <td>0.000013</td>\n",
       "      <td>0.000000</td>\n",
       "    </tr>\n",
       "  </tbody>\n",
       "</table>\n",
       "</div>"
      ],
      "text/plain": [
       "   decile  count_good  count_bad  avg_prob_good  avg_prob_bad  bad_rate\n",
       "0       0         479         14       0.935537      0.064463  0.028398\n",
       "1       1         490          2       0.993240      0.006760  0.004065\n",
       "2       2         489          4       0.997661      0.002339  0.008114\n",
       "3       3         493          2       0.998880      0.001120  0.004040\n",
       "4       4         490          1       0.999412      0.000588  0.002037\n",
       "5       5         490          1       0.999670      0.000330  0.002037\n",
       "6       6         490          2       0.999807      0.000193  0.004065\n",
       "7       7         497          1       0.999907      0.000093  0.002008\n",
       "8       8         488          0       0.999960      0.000040  0.000000\n",
       "9       9         492          0       0.999987      0.000013  0.000000"
      ]
     },
     "execution_count": 453,
     "metadata": {},
     "output_type": "execute_result"
    }
   ],
   "source": [
    "#train data\n",
    "distribution_table = X_test_accepted_combined_m_distribution.groupby('decile').apply(lambda x: pd.Series({\n",
    "    'count_good': (x['perf2_2_12'] == 'G').sum(), \n",
    "    'count_bad': (x['perf2_2_12'] == 'B').sum(),   \n",
    "    'avg_prob_good': x['probab_good'].mean(),  \n",
    "    'avg_prob_bad': x['probab_bad'].mean(),    \n",
    "    'bad_rate': (x['perf2_2_12'] == 'B').sum() / len(x)  \n",
    "})).reset_index()\n",
    "distribution_table['count_good'] = distribution_table['count_good'].astype(int)\n",
    "distribution_table['count_bad'] = distribution_table['count_bad'].astype(int)\n",
    "distribution_table"
   ]
  },
  {
   "cell_type": "markdown",
   "id": "37cac150-c3b8-44e0-bdab-cd30a5477aab",
   "metadata": {},
   "source": [
    "## Vizualizace"
   ]
  },
  {
   "cell_type": "code",
   "execution_count": 184,
   "id": "a50fcf82-7947-4ff3-98f9-dc2e0c0607ea",
   "metadata": {},
   "outputs": [],
   "source": [
    "X_test_accepted['predicted'] = y_pred_accepted"
   ]
  },
  {
   "cell_type": "code",
   "execution_count": 181,
   "id": "bd404d7c-cc63-4234-b732-ee21d6683a93",
   "metadata": {},
   "outputs": [
    {
     "data": {
      "image/png": "[encoded data removed]",
      "text/plain": [
       "<Figure size 640x480 with 1 Axes>"
      ]
     },
     "metadata": {},
     "output_type": "display_data"
    }
   ],
   "source": [
    "ax = sns.histplot(\n",
    "    data=X_test_accepted,\n",
    "    x=\"expert_score_cpi\",\n",
    "    hue=\"predicted\",\n",
    "    element=\"poly\"\n",
    ")"
   ]
  },
  {
   "cell_type": "code",
   "execution_count": 182,
   "id": "22689033-9c5a-4310-8647-2847da7588b3",
   "metadata": {},
   "outputs": [
    {
     "data": {
      "image/png": "[encoded data removed]",
      "text/plain": [
       "<Figure size 640x480 with 1 Axes>"
      ]
     },
     "metadata": {},
     "output_type": "display_data"
    }
   ],
   "source": [
    "ax = sns.histplot(\n",
    "    data=X_test_accepted,\n",
    "    x=\"expert_score_cpi\",\n",
    "    hue=\"perf2_2_12\",\n",
    "    element=\"poly\"\n",
    ")"
   ]
  },
  {
   "cell_type": "code",
   "execution_count": 194,
   "id": "c6b6eea7-e6a0-498d-82ed-691181a6a8fa",
   "metadata": {},
   "outputs": [
    {
     "data": {
      "image/png": "[encoded data removed]",
      "text/plain": [
       "<Figure size 640x480 with 1 Axes>"
      ]
     },
     "metadata": {},
     "output_type": "display_data"
    }
   ],
   "source": [
    "import matplotlib.pyplot as plt\n",
    "sns.histplot(data=accepted_data['expert_score_cpi'], label = \"accepted\", kde=True)\n",
    "sns.histplot(data=combined_data['expert_score_cpi'], label = \"combined\", kde=True)\n",
    "plt.legend()\n",
    "plt.show()"
   ]
  },
  {
   "cell_type": "code",
   "execution_count": 196,
   "id": "84caeb59-c139-4112-a873-11a6ea7f5aaf",
   "metadata": {},
   "outputs": [],
   "source": [
    "bins = [-float('inf'), 358, 373, 386, 396, 408, 419, 434, 447, 461, float('inf')]\n",
    "labels = [\"<=358\", \"359 - 373\", \"374 - 386\", \"387 - 396\", \"397 - 408\", \"409 - 419\",\n",
    "          \"420 - 434\", \"435 - 447\", \"448 - 461\", \">=462\"]\n",
    "combined_data.loc[:,'score_category'] = pd.cut(combined_data['expert_score_cpi'], bins=bins, labels=labels)\n",
    "accepted_data.loc[:,'score_category'] = pd.cut(accepted_data['expert_score_cpi'], bins=bins, labels=labels)"
   ]
  },
  {
   "cell_type": "code",
   "execution_count": 200,
   "id": "06f05fbf-c6c5-4c2f-aaaf-4280a4e18d05",
   "metadata": {},
   "outputs": [
    {
     "data": {
      "image/png": "[encoded data removed]",
      "text/plain": [
       "<Figure size 640x480 with 1 Axes>"
      ]
     },
     "metadata": {},
     "output_type": "display_data"
    }
   ],
   "source": [
    "ax = sns.countplot(\n",
    "    data=combined_data,\n",
    "    x=\"score_category\",\n",
    "    hue=\"Predicted_Performance\"\n",
    ")\n",
    "ax.tick_params(axis=\"x\", rotation=45)"
   ]
  },
  {
   "cell_type": "code",
   "execution_count": 202,
   "id": "7b476680-1d60-4af8-827e-87cdaabb93ec",
   "metadata": {},
   "outputs": [
    {
     "data": {
      "image/png": "[encoded data removed]",
      "text/plain": [
       "<Figure size 640x480 with 1 Axes>"
      ]
     },
     "metadata": {},
     "output_type": "display_data"
    }
   ],
   "source": [
    "accepted_data.loc[:,'source'] = 'Accepted Data'\n",
    "combined_data.loc[:,'source'] = 'Combined Data'\n",
    "plot_data = pd.concat([accepted_data, combined_data], ignore_index=True)\n",
    "sns.histplot(data=plot_data, x='score_category', hue='source',shrink=0.8, alpha = 0.5)\n",
    "plt.title(\"Distribution of 'score_category' in Accepted vs. Combined Data\")\n",
    "plt.xlabel(\"Score Category\")\n",
    "plt.xticks(rotation=45)\n",
    "plt.show()"
   ]
  }
 ],
 "metadata": {
  "kernelspec": {
   "display_name": "Python 3 (ipykernel)",
   "language": "python",
   "name": "python3"
  },
  "language_info": {
   "codemirror_mode": {
    "name": "ipython",
    "version": 3
   },
   "file_extension": ".py",
   "mimetype": "text/x-python",
   "name": "python",
   "nbconvert_exporter": "python",
   "pygments_lexer": "ipython3",
   "version": "3.12.4"
  }
 },
 "nbformat": 4,
 "nbformat_minor": 5
}
